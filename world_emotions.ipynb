{
 "cells": [
  {
   "cell_type": "code",
   "execution_count": 1,
   "metadata": {},
   "outputs": [
    {
     "name": "stderr",
     "output_type": "stream",
     "text": [
      "Matplotlib is building the font cache; this may take a moment.\n"
     ]
    }
   ],
   "source": [
    "import pandas as pd \n",
    "import numpy as np\n",
    "import json, os\n",
    "import matplotlib.pyplot as plt"
   ]
  },
  {
   "cell_type": "code",
   "execution_count": 55,
   "metadata": {},
   "outputs": [],
   "source": [
    "with open(f\"{os.getcwd()}/emotions.json\", \"r\") as f:\n",
    "    dataset = json.load(f)"
   ]
  },
  {
   "cell_type": "code",
   "execution_count": 56,
   "metadata": {},
   "outputs": [],
   "source": [
    "name_changer = {\n",
    "                'Hong Kong, S.A.R. of China': 'Hong Kong',\n",
    "                'Netherlands (Kingdom of the)': 'Netherlands',\n",
    "                'T&#252;rkiye': 'Turkey',\n",
    "                'United Kingdom of Great Britain and Northern Ireland': 'United Kingdom',\n",
    "                \"Cote d'Ivoire\": \"Côte d'Ivoire\",\n",
    "                'Eswatini': 'Swaziland',\n",
    "                'United States of America': 'United States',\n",
    "                'Bolivia': 'Bolivia, Plurinational State of',\n",
    "                'Democratic Republic of the Congo': 'Congo, the Democratic Republic of the',\n",
    "                'Iran': 'Iran, Islamic Republic of',\n",
    "                'Republic of the Congo': 'Congo',\n",
    "                'South Korea': 'Korea, Republic of',\n",
    "                'Tanzania': 'Tanzania, United Republic of',\n",
    "                'Venezuela': 'Venezuela, Bolivarian Republic of',\n",
    "                'Vietnam': 'Viet Nam'\n",
    "                }\n",
    "\n",
    "def name_filter(array, dictionary):\n",
    "    return [dictionary.get(name, name) for name in array]"
   ]
  },
  {
   "cell_type": "code",
   "execution_count": 57,
   "metadata": {},
   "outputs": [
    {
     "data": {
      "text/plain": [
       "{'Anger': 'q1',\n",
       " 'Sadness': 'q2',\n",
       " 'Stress': 'q3',\n",
       " 'Worry': 'q4',\n",
       " 'Pain': 'q5',\n",
       " 'Enjoyment': 'q6',\n",
       " 'Well-Rested': 'q7',\n",
       " 'Learned': 'q8',\n",
       " 'Smiled': 'q9',\n",
       " 'Respect': 'q10'}"
      ]
     },
     "execution_count": 57,
     "metadata": {},
     "output_type": "execute_result"
    }
   ],
   "source": [
    "keys     = list(dataset['qInfo'].keys())[1:]\n",
    "emotions = [dataset['qInfo'][key]['label'] for key in keys]\n",
    "emotions_dict = dict(np.array([emotions, keys]).T)\n",
    "emotions_dict"
   ]
  },
  {
   "cell_type": "code",
   "execution_count": 58,
   "metadata": {},
   "outputs": [
    {
     "data": {
      "text/plain": [
       "{'Anger': 'no',\n",
       " 'Sadness': 'no',\n",
       " 'Stress': 'no',\n",
       " 'Worry': 'no',\n",
       " 'Pain': 'no',\n",
       " 'Enjoyment': 'yes',\n",
       " 'Well-Rested': 'yes',\n",
       " 'Learned': 'yes',\n",
       " 'Smiled': 'yes',\n",
       " 'Respect': 'yes'}"
      ]
     },
     "execution_count": 58,
     "metadata": {},
     "output_type": "execute_result"
    }
   ],
   "source": [
    "positive = ['no', 'no', 'no', 'no', 'no', 'yes', 'yes', 'yes', 'yes', 'yes']\n",
    "positive_dict = dict(np.array([emotions, positive]).T)\n",
    "positive_dict"
   ]
  },
  {
   "cell_type": "code",
   "execution_count": 59,
   "metadata": {},
   "outputs": [],
   "source": [
    "data          = []\n",
    "country_names = []\n",
    "\n",
    "for country_data in dataset[\"data\"]:\n",
    "    country_name     = country_data['name']\n",
    "    country_names.append(country_name)\n",
    "    country_emotions = [country_data[emotions_dict[emotion]][positive_dict[emotion]] for emotion in emotions_dict]\n",
    "    data.extend([country_emotions])\n",
    "    \n",
    "country_names = name_filter(country_names, name_changer)"
   ]
  },
  {
   "cell_type": "code",
   "execution_count": 60,
   "metadata": {},
   "outputs": [
    {
     "data": {
      "text/plain": [
       "['Kosovo', 'North Macedonia', 'Northern Cyprus', 'State of Palestine']"
      ]
     },
     "execution_count": 60,
     "metadata": {},
     "output_type": "execute_result"
    }
   ],
   "source": [
    "# Test on all names being standard for plotly\n",
    "with open(f\"{os.getcwd()}/countries.json\", \"r\") as f:\n",
    "    country_codes = json.load(f)\n",
    "\n",
    "standard_country_names = [country['name'] for country in country_codes]\n",
    "[name for name in country_names if name not in standard_country_names]"
   ]
  },
  {
   "cell_type": "code",
   "execution_count": 61,
   "metadata": {},
   "outputs": [
    {
     "data": {
      "text/html": [
       "<div>\n",
       "<style scoped>\n",
       "    .dataframe tbody tr th:only-of-type {\n",
       "        vertical-align: middle;\n",
       "    }\n",
       "\n",
       "    .dataframe tbody tr th {\n",
       "        vertical-align: top;\n",
       "    }\n",
       "\n",
       "    .dataframe thead th {\n",
       "        text-align: right;\n",
       "    }\n",
       "</style>\n",
       "<table border=\"1\" class=\"dataframe\">\n",
       "  <thead>\n",
       "    <tr style=\"text-align: right;\">\n",
       "      <th></th>\n",
       "      <th>Anger</th>\n",
       "      <th>Sadness</th>\n",
       "      <th>Stress</th>\n",
       "      <th>Worry</th>\n",
       "      <th>Pain</th>\n",
       "      <th>Enjoyment</th>\n",
       "      <th>Well-Rested</th>\n",
       "      <th>Learned</th>\n",
       "      <th>Smiled</th>\n",
       "      <th>Respect</th>\n",
       "    </tr>\n",
       "  </thead>\n",
       "  <tbody>\n",
       "    <tr>\n",
       "      <th>0</th>\n",
       "      <td>73</td>\n",
       "      <td>54</td>\n",
       "      <td>46</td>\n",
       "      <td>33</td>\n",
       "      <td>58</td>\n",
       "      <td>33</td>\n",
       "      <td>46</td>\n",
       "      <td>17</td>\n",
       "      <td>28</td>\n",
       "      <td>67</td>\n",
       "    </tr>\n",
       "    <tr>\n",
       "      <th>1</th>\n",
       "      <td>76</td>\n",
       "      <td>70</td>\n",
       "      <td>50</td>\n",
       "      <td>60</td>\n",
       "      <td>53</td>\n",
       "      <td>68</td>\n",
       "      <td>65</td>\n",
       "      <td>35</td>\n",
       "      <td>74</td>\n",
       "      <td>92</td>\n",
       "    </tr>\n",
       "    <tr>\n",
       "      <th>2</th>\n",
       "      <td>85</td>\n",
       "      <td>71</td>\n",
       "      <td>57</td>\n",
       "      <td>53</td>\n",
       "      <td>59</td>\n",
       "      <td>79</td>\n",
       "      <td>70</td>\n",
       "      <td>54</td>\n",
       "      <td>82</td>\n",
       "      <td>94</td>\n",
       "    </tr>\n",
       "    <tr>\n",
       "      <th>3</th>\n",
       "      <td>58</td>\n",
       "      <td>63</td>\n",
       "      <td>72</td>\n",
       "      <td>52</td>\n",
       "      <td>62</td>\n",
       "      <td>60</td>\n",
       "      <td>50</td>\n",
       "      <td>42</td>\n",
       "      <td>68</td>\n",
       "      <td>96</td>\n",
       "    </tr>\n",
       "    <tr>\n",
       "      <th>4</th>\n",
       "      <td>86</td>\n",
       "      <td>76</td>\n",
       "      <td>57</td>\n",
       "      <td>63</td>\n",
       "      <td>68</td>\n",
       "      <td>79</td>\n",
       "      <td>66</td>\n",
       "      <td>63</td>\n",
       "      <td>76</td>\n",
       "      <td>91</td>\n",
       "    </tr>\n",
       "    <tr>\n",
       "      <th>...</th>\n",
       "      <td>...</td>\n",
       "      <td>...</td>\n",
       "      <td>...</td>\n",
       "      <td>...</td>\n",
       "      <td>...</td>\n",
       "      <td>...</td>\n",
       "      <td>...</td>\n",
       "      <td>...</td>\n",
       "      <td>...</td>\n",
       "      <td>...</td>\n",
       "    </tr>\n",
       "    <tr>\n",
       "      <th>137</th>\n",
       "      <td>85</td>\n",
       "      <td>71</td>\n",
       "      <td>55</td>\n",
       "      <td>53</td>\n",
       "      <td>63</td>\n",
       "      <td>74</td>\n",
       "      <td>76</td>\n",
       "      <td>69</td>\n",
       "      <td>84</td>\n",
       "      <td>97</td>\n",
       "    </tr>\n",
       "    <tr>\n",
       "      <th>138</th>\n",
       "      <td>95</td>\n",
       "      <td>89</td>\n",
       "      <td>86</td>\n",
       "      <td>79</td>\n",
       "      <td>93</td>\n",
       "      <td>71</td>\n",
       "      <td>92</td>\n",
       "      <td>53</td>\n",
       "      <td>88</td>\n",
       "      <td>97</td>\n",
       "    </tr>\n",
       "    <tr>\n",
       "      <th>139</th>\n",
       "      <td>72</td>\n",
       "      <td>76</td>\n",
       "      <td>64</td>\n",
       "      <td>50</td>\n",
       "      <td>58</td>\n",
       "      <td>51</td>\n",
       "      <td>53</td>\n",
       "      <td>31</td>\n",
       "      <td>51</td>\n",
       "      <td>80</td>\n",
       "    </tr>\n",
       "    <tr>\n",
       "      <th>140</th>\n",
       "      <td>78</td>\n",
       "      <td>66</td>\n",
       "      <td>57</td>\n",
       "      <td>47</td>\n",
       "      <td>53</td>\n",
       "      <td>68</td>\n",
       "      <td>67</td>\n",
       "      <td>47</td>\n",
       "      <td>79</td>\n",
       "      <td>88</td>\n",
       "    </tr>\n",
       "    <tr>\n",
       "      <th>141</th>\n",
       "      <td>90</td>\n",
       "      <td>82</td>\n",
       "      <td>72</td>\n",
       "      <td>74</td>\n",
       "      <td>74</td>\n",
       "      <td>58</td>\n",
       "      <td>62</td>\n",
       "      <td>46</td>\n",
       "      <td>79</td>\n",
       "      <td>84</td>\n",
       "    </tr>\n",
       "  </tbody>\n",
       "</table>\n",
       "<p>142 rows × 10 columns</p>\n",
       "</div>"
      ],
      "text/plain": [
       "     Anger  Sadness  Stress  Worry  Pain  Enjoyment  Well-Rested  Learned  \\\n",
       "0       73       54      46     33    58         33           46       17   \n",
       "1       76       70      50     60    53         68           65       35   \n",
       "2       85       71      57     53    59         79           70       54   \n",
       "3       58       63      72     52    62         60           50       42   \n",
       "4       86       76      57     63    68         79           66       63   \n",
       "..     ...      ...     ...    ...   ...        ...          ...      ...   \n",
       "137     85       71      55     53    63         74           76       69   \n",
       "138     95       89      86     79    93         71           92       53   \n",
       "139     72       76      64     50    58         51           53       31   \n",
       "140     78       66      57     47    53         68           67       47   \n",
       "141     90       82      72     74    74         58           62       46   \n",
       "\n",
       "     Smiled  Respect  \n",
       "0        28       67  \n",
       "1        74       92  \n",
       "2        82       94  \n",
       "3        68       96  \n",
       "4        76       91  \n",
       "..      ...      ...  \n",
       "137      84       97  \n",
       "138      88       97  \n",
       "139      51       80  \n",
       "140      79       88  \n",
       "141      79       84  \n",
       "\n",
       "[142 rows x 10 columns]"
      ]
     },
     "execution_count": 61,
     "metadata": {},
     "output_type": "execute_result"
    }
   ],
   "source": [
    "df = pd.DataFrame(data, columns=emotions, dtype=int)\n",
    "df"
   ]
  },
  {
   "cell_type": "code",
   "execution_count": 62,
   "metadata": {},
   "outputs": [
    {
     "data": {
      "image/png": "[encoded data removed]",
      "text/plain": [
       "<Figure size 1000x600 with 1 Axes>"
      ]
     },
     "metadata": {},
     "output_type": "display_data"
    },
    {
     "data": {
      "image/png": "[encoded data removed]",
      "text/plain": [
       "<Figure size 1000x600 with 1 Axes>"
      ]
     },
     "metadata": {},
     "output_type": "display_data"
    },
    {
     "data": {
      "image/png": "[encoded data removed]",
      "text/plain": [
       "<Figure size 1000x600 with 1 Axes>"
      ]
     },
     "metadata": {},
     "output_type": "display_data"
    },
    {
     "data": {
      "image/png": "[encoded data removed]",
      "text/plain": [
       "<Figure size 1000x600 with 1 Axes>"
      ]
     },
     "metadata": {},
     "output_type": "display_data"
    },
    {
     "data": {
      "image/png": "[encoded data removed]",
      "text/plain": [
       "<Figure size 1000x600 with 1 Axes>"
      ]
     },
     "metadata": {},
     "output_type": "display_data"
    },
    {
     "data": {
      "image/png": "[encoded data removed]",
      "text/plain": [
       "<Figure size 1000x600 with 1 Axes>"
      ]
     },
     "metadata": {},
     "output_type": "display_data"
    },
    {
     "data": {
      "image/png": "[encoded data removed]",
      "text/plain": [
       "<Figure size 1000x600 with 1 Axes>"
      ]
     },
     "metadata": {},
     "output_type": "display_data"
    },
    {
     "data": {
      "image/png": "[encoded data removed]",
      "text/plain": [
       "<Figure size 1000x600 with 1 Axes>"
      ]
     },
     "metadata": {},
     "output_type": "display_data"
    },
    {
     "data": {
      "image/png": "[encoded data removed]",
      "text/plain": [
       "<Figure size 1000x600 with 1 Axes>"
      ]
     },
     "metadata": {},
     "output_type": "display_data"
    },
    {
     "data": {
      "image/png": "[encoded data removed]",
      "text/plain": [
       "<Figure size 1000x600 with 1 Axes>"
      ]
     },
     "metadata": {},
     "output_type": "display_data"
    }
   ],
   "source": [
    "for emotion in emotions:\n",
    "    emotion_number = int(emotions_dict[emotion][1:])-1\n",
    "    numbers        = np.array(data).T[emotion_number].astype(int)\n",
    "    plt.figure(figsize=(10, 6))\n",
    "    plt.hist(numbers, bins=10, edgecolor='black')\n",
    "    plt.title(emotion)\n",
    "    plt.xlabel('Value')\n",
    "    plt.ylabel('Frequency')\n",
    "    plt.grid(axis='y', alpha=0.75)\n",
    "    plt.show()"
   ]
  },
  {
   "cell_type": "code",
   "execution_count": 63,
   "metadata": {},
   "outputs": [],
   "source": [
    "def arr_to_ranks(arr, n_bins=10):\n",
    "    # Create bins (you can adjust the number of bins as needed)\n",
    "    bins = np.histogram_bin_edges(arr, n_bins)\n",
    "\n",
    "    # Assign ranks based on bins\n",
    "    ranks = np.digitize(arr, bins)\n",
    "    ranks = np.minimum(ranks, n_bins)\n",
    "    \n",
    "    #ranks = np.quantile(arr, np.arange(0.1, 1.1, 0.1))\n",
    "    \n",
    "    return ranks"
   ]
  },
  {
   "cell_type": "code",
   "execution_count": 64,
   "metadata": {},
   "outputs": [],
   "source": [
    "threshold = 8.0"
   ]
  },
  {
   "cell_type": "code",
   "execution_count": 65,
   "metadata": {},
   "outputs": [],
   "source": [
    "df_result = pd.DataFrame(country_names, columns=[\"Country\"])\n",
    "for emotion in emotions:\n",
    "    df_result[emotion] = arr_to_ranks(df[emotion].values)\n",
    "    \n",
    "df_result['Composite'] = df_result.mean(axis=1, numeric_only=True)\n",
    "df_result              = df_result.sort_values(by='Composite', ascending=False)"
   ]
  },
  {
   "cell_type": "code",
   "execution_count": 66,
   "metadata": {},
   "outputs": [
    {
     "data": {
      "text/html": [
       "<div>\n",
       "<style scoped>\n",
       "    .dataframe tbody tr th:only-of-type {\n",
       "        vertical-align: middle;\n",
       "    }\n",
       "\n",
       "    .dataframe tbody tr th {\n",
       "        vertical-align: top;\n",
       "    }\n",
       "\n",
       "    .dataframe thead th {\n",
       "        text-align: right;\n",
       "    }\n",
       "</style>\n",
       "<table border=\"1\" class=\"dataframe\">\n",
       "  <thead>\n",
       "    <tr style=\"text-align: right;\">\n",
       "      <th></th>\n",
       "      <th>Country</th>\n",
       "      <th>Anger</th>\n",
       "      <th>Sadness</th>\n",
       "      <th>Stress</th>\n",
       "      <th>Worry</th>\n",
       "      <th>Pain</th>\n",
       "      <th>Enjoyment</th>\n",
       "      <th>Well-Rested</th>\n",
       "      <th>Learned</th>\n",
       "      <th>Smiled</th>\n",
       "      <th>Respect</th>\n",
       "      <th>Composite</th>\n",
       "    </tr>\n",
       "  </thead>\n",
       "  <tbody>\n",
       "    <tr>\n",
       "      <th>138</th>\n",
       "      <td>Viet Nam</td>\n",
       "      <td>10</td>\n",
       "      <td>9</td>\n",
       "      <td>9</td>\n",
       "      <td>9</td>\n",
       "      <td>10</td>\n",
       "      <td>7</td>\n",
       "      <td>10</td>\n",
       "      <td>6</td>\n",
       "      <td>10</td>\n",
       "      <td>10</td>\n",
       "      <td>9.0</td>\n",
       "    </tr>\n",
       "    <tr>\n",
       "      <th>76</th>\n",
       "      <td>Malaysia</td>\n",
       "      <td>8</td>\n",
       "      <td>8</td>\n",
       "      <td>9</td>\n",
       "      <td>9</td>\n",
       "      <td>8</td>\n",
       "      <td>10</td>\n",
       "      <td>10</td>\n",
       "      <td>6</td>\n",
       "      <td>10</td>\n",
       "      <td>10</td>\n",
       "      <td>8.8</td>\n",
       "    </tr>\n",
       "    <tr>\n",
       "      <th>136</th>\n",
       "      <td>Uzbekistan</td>\n",
       "      <td>7</td>\n",
       "      <td>8</td>\n",
       "      <td>10</td>\n",
       "      <td>9</td>\n",
       "      <td>8</td>\n",
       "      <td>10</td>\n",
       "      <td>9</td>\n",
       "      <td>7</td>\n",
       "      <td>9</td>\n",
       "      <td>10</td>\n",
       "      <td>8.7</td>\n",
       "    </tr>\n",
       "    <tr>\n",
       "      <th>123</th>\n",
       "      <td>Taiwan, Province of China</td>\n",
       "      <td>9</td>\n",
       "      <td>10</td>\n",
       "      <td>6</td>\n",
       "      <td>10</td>\n",
       "      <td>9</td>\n",
       "      <td>10</td>\n",
       "      <td>7</td>\n",
       "      <td>7</td>\n",
       "      <td>9</td>\n",
       "      <td>8</td>\n",
       "      <td>8.5</td>\n",
       "    </tr>\n",
       "    <tr>\n",
       "      <th>100</th>\n",
       "      <td>Paraguay</td>\n",
       "      <td>9</td>\n",
       "      <td>8</td>\n",
       "      <td>6</td>\n",
       "      <td>6</td>\n",
       "      <td>7</td>\n",
       "      <td>10</td>\n",
       "      <td>9</td>\n",
       "      <td>9</td>\n",
       "      <td>10</td>\n",
       "      <td>10</td>\n",
       "      <td>8.4</td>\n",
       "    </tr>\n",
       "    <tr>\n",
       "      <th>54</th>\n",
       "      <td>Indonesia</td>\n",
       "      <td>7</td>\n",
       "      <td>6</td>\n",
       "      <td>9</td>\n",
       "      <td>6</td>\n",
       "      <td>8</td>\n",
       "      <td>10</td>\n",
       "      <td>9</td>\n",
       "      <td>9</td>\n",
       "      <td>10</td>\n",
       "      <td>9</td>\n",
       "      <td>8.3</td>\n",
       "    </tr>\n",
       "    <tr>\n",
       "      <th>66</th>\n",
       "      <td>Kyrgyzstan</td>\n",
       "      <td>8</td>\n",
       "      <td>9</td>\n",
       "      <td>10</td>\n",
       "      <td>8</td>\n",
       "      <td>9</td>\n",
       "      <td>9</td>\n",
       "      <td>8</td>\n",
       "      <td>4</td>\n",
       "      <td>9</td>\n",
       "      <td>9</td>\n",
       "      <td>8.3</td>\n",
       "    </tr>\n",
       "    <tr>\n",
       "      <th>36</th>\n",
       "      <td>Estonia</td>\n",
       "      <td>10</td>\n",
       "      <td>8</td>\n",
       "      <td>8</td>\n",
       "      <td>7</td>\n",
       "      <td>8</td>\n",
       "      <td>10</td>\n",
       "      <td>6</td>\n",
       "      <td>9</td>\n",
       "      <td>8</td>\n",
       "      <td>9</td>\n",
       "      <td>8.3</td>\n",
       "    </tr>\n",
       "    <tr>\n",
       "      <th>81</th>\n",
       "      <td>Mexico</td>\n",
       "      <td>10</td>\n",
       "      <td>7</td>\n",
       "      <td>5</td>\n",
       "      <td>6</td>\n",
       "      <td>7</td>\n",
       "      <td>10</td>\n",
       "      <td>8</td>\n",
       "      <td>9</td>\n",
       "      <td>10</td>\n",
       "      <td>10</td>\n",
       "      <td>8.2</td>\n",
       "    </tr>\n",
       "    <tr>\n",
       "      <th>65</th>\n",
       "      <td>Kuwait</td>\n",
       "      <td>8</td>\n",
       "      <td>9</td>\n",
       "      <td>6</td>\n",
       "      <td>7</td>\n",
       "      <td>7</td>\n",
       "      <td>8</td>\n",
       "      <td>9</td>\n",
       "      <td>8</td>\n",
       "      <td>9</td>\n",
       "      <td>10</td>\n",
       "      <td>8.1</td>\n",
       "    </tr>\n",
       "    <tr>\n",
       "      <th>122</th>\n",
       "      <td>Switzerland</td>\n",
       "      <td>9</td>\n",
       "      <td>8</td>\n",
       "      <td>7</td>\n",
       "      <td>8</td>\n",
       "      <td>7</td>\n",
       "      <td>9</td>\n",
       "      <td>7</td>\n",
       "      <td>9</td>\n",
       "      <td>8</td>\n",
       "      <td>9</td>\n",
       "      <td>8.1</td>\n",
       "    </tr>\n",
       "    <tr>\n",
       "      <th>99</th>\n",
       "      <td>Panama</td>\n",
       "      <td>9</td>\n",
       "      <td>7</td>\n",
       "      <td>5</td>\n",
       "      <td>5</td>\n",
       "      <td>7</td>\n",
       "      <td>10</td>\n",
       "      <td>9</td>\n",
       "      <td>9</td>\n",
       "      <td>10</td>\n",
       "      <td>10</td>\n",
       "      <td>8.1</td>\n",
       "    </tr>\n",
       "    <tr>\n",
       "      <th>126</th>\n",
       "      <td>Thailand</td>\n",
       "      <td>8</td>\n",
       "      <td>8</td>\n",
       "      <td>7</td>\n",
       "      <td>7</td>\n",
       "      <td>6</td>\n",
       "      <td>9</td>\n",
       "      <td>8</td>\n",
       "      <td>10</td>\n",
       "      <td>9</td>\n",
       "      <td>9</td>\n",
       "      <td>8.1</td>\n",
       "    </tr>\n",
       "  </tbody>\n",
       "</table>\n",
       "</div>"
      ],
      "text/plain": [
       "                       Country  Anger  Sadness  Stress  Worry  Pain  \\\n",
       "138                   Viet Nam     10        9       9      9    10   \n",
       "76                    Malaysia      8        8       9      9     8   \n",
       "136                 Uzbekistan      7        8      10      9     8   \n",
       "123  Taiwan, Province of China      9       10       6     10     9   \n",
       "100                   Paraguay      9        8       6      6     7   \n",
       "54                   Indonesia      7        6       9      6     8   \n",
       "66                  Kyrgyzstan      8        9      10      8     9   \n",
       "36                     Estonia     10        8       8      7     8   \n",
       "81                      Mexico     10        7       5      6     7   \n",
       "65                      Kuwait      8        9       6      7     7   \n",
       "122                Switzerland      9        8       7      8     7   \n",
       "99                      Panama      9        7       5      5     7   \n",
       "126                   Thailand      8        8       7      7     6   \n",
       "\n",
       "     Enjoyment  Well-Rested  Learned  Smiled  Respect  Composite  \n",
       "138          7           10        6      10       10        9.0  \n",
       "76          10           10        6      10       10        8.8  \n",
       "136         10            9        7       9       10        8.7  \n",
       "123         10            7        7       9        8        8.5  \n",
       "100         10            9        9      10       10        8.4  \n",
       "54          10            9        9      10        9        8.3  \n",
       "66           9            8        4       9        9        8.3  \n",
       "36          10            6        9       8        9        8.3  \n",
       "81          10            8        9      10       10        8.2  \n",
       "65           8            9        8       9       10        8.1  \n",
       "122          9            7        9       8        9        8.1  \n",
       "99          10            9        9      10       10        8.1  \n",
       "126          9            8       10       9        9        8.1  "
      ]
     },
     "execution_count": 66,
     "metadata": {},
     "output_type": "execute_result"
    }
   ],
   "source": [
    "df_result[df_result['Composite']>threshold]"
   ]
  },
  {
   "cell_type": "code",
   "execution_count": 459,
   "metadata": {},
   "outputs": [],
   "source": [
    "df_result1 = pd.DataFrame(country_names, columns=[\"Country\"])\n",
    "for emotion in ['Anger', 'Stress', 'Worry', 'Enjoyment', 'Well-Rested', 'Learned']:\n",
    "    df_result1[emotion] = df_result[emotion]\n",
    "df_result1['Composite'] = df_result1.mean(axis=1, numeric_only=True)\n",
    "df_result1              = df_result1.sort_values(by='Composite', ascending=False)"
   ]
  },
  {
   "cell_type": "code",
   "execution_count": 460,
   "metadata": {},
   "outputs": [
    {
     "data": {
      "text/html": [
       "<div>\n",
       "<style scoped>\n",
       "    .dataframe tbody tr th:only-of-type {\n",
       "        vertical-align: middle;\n",
       "    }\n",
       "\n",
       "    .dataframe tbody tr th {\n",
       "        vertical-align: top;\n",
       "    }\n",
       "\n",
       "    .dataframe thead th {\n",
       "        text-align: right;\n",
       "    }\n",
       "</style>\n",
       "<table border=\"1\" class=\"dataframe\">\n",
       "  <thead>\n",
       "    <tr style=\"text-align: right;\">\n",
       "      <th></th>\n",
       "      <th>Country</th>\n",
       "      <th>Anger</th>\n",
       "      <th>Stress</th>\n",
       "      <th>Worry</th>\n",
       "      <th>Enjoyment</th>\n",
       "      <th>Well-Rested</th>\n",
       "      <th>Learned</th>\n",
       "      <th>Composite</th>\n",
       "    </tr>\n",
       "  </thead>\n",
       "  <tbody>\n",
       "    <tr>\n",
       "      <th>76</th>\n",
       "      <td>Malaysia</td>\n",
       "      <td>8</td>\n",
       "      <td>9</td>\n",
       "      <td>9</td>\n",
       "      <td>10</td>\n",
       "      <td>10</td>\n",
       "      <td>6</td>\n",
       "      <td>8.666667</td>\n",
       "    </tr>\n",
       "    <tr>\n",
       "      <th>136</th>\n",
       "      <td>Uzbekistan</td>\n",
       "      <td>7</td>\n",
       "      <td>10</td>\n",
       "      <td>9</td>\n",
       "      <td>10</td>\n",
       "      <td>9</td>\n",
       "      <td>7</td>\n",
       "      <td>8.666667</td>\n",
       "    </tr>\n",
       "    <tr>\n",
       "      <th>138</th>\n",
       "      <td>Vietnam</td>\n",
       "      <td>10</td>\n",
       "      <td>9</td>\n",
       "      <td>9</td>\n",
       "      <td>7</td>\n",
       "      <td>10</td>\n",
       "      <td>6</td>\n",
       "      <td>8.500000</td>\n",
       "    </tr>\n",
       "    <tr>\n",
       "      <th>54</th>\n",
       "      <td>Indonesia</td>\n",
       "      <td>7</td>\n",
       "      <td>9</td>\n",
       "      <td>6</td>\n",
       "      <td>10</td>\n",
       "      <td>9</td>\n",
       "      <td>9</td>\n",
       "      <td>8.333333</td>\n",
       "    </tr>\n",
       "    <tr>\n",
       "      <th>36</th>\n",
       "      <td>Estonia</td>\n",
       "      <td>10</td>\n",
       "      <td>8</td>\n",
       "      <td>7</td>\n",
       "      <td>10</td>\n",
       "      <td>6</td>\n",
       "      <td>9</td>\n",
       "      <td>8.333333</td>\n",
       "    </tr>\n",
       "    <tr>\n",
       "      <th>126</th>\n",
       "      <td>Thailand</td>\n",
       "      <td>8</td>\n",
       "      <td>7</td>\n",
       "      <td>7</td>\n",
       "      <td>9</td>\n",
       "      <td>8</td>\n",
       "      <td>10</td>\n",
       "      <td>8.166667</td>\n",
       "    </tr>\n",
       "    <tr>\n",
       "      <th>123</th>\n",
       "      <td>Taiwan</td>\n",
       "      <td>9</td>\n",
       "      <td>6</td>\n",
       "      <td>10</td>\n",
       "      <td>10</td>\n",
       "      <td>7</td>\n",
       "      <td>7</td>\n",
       "      <td>8.166667</td>\n",
       "    </tr>\n",
       "    <tr>\n",
       "      <th>100</th>\n",
       "      <td>Paraguay</td>\n",
       "      <td>9</td>\n",
       "      <td>6</td>\n",
       "      <td>6</td>\n",
       "      <td>10</td>\n",
       "      <td>9</td>\n",
       "      <td>9</td>\n",
       "      <td>8.166667</td>\n",
       "    </tr>\n",
       "    <tr>\n",
       "      <th>122</th>\n",
       "      <td>Switzerland</td>\n",
       "      <td>9</td>\n",
       "      <td>7</td>\n",
       "      <td>8</td>\n",
       "      <td>9</td>\n",
       "      <td>7</td>\n",
       "      <td>9</td>\n",
       "      <td>8.166667</td>\n",
       "    </tr>\n",
       "  </tbody>\n",
       "</table>\n",
       "</div>"
      ],
      "text/plain": [
       "         Country  Anger  Stress  Worry  Enjoyment  Well-Rested  Learned  \\\n",
       "76      Malaysia      8       9      9         10           10        6   \n",
       "136   Uzbekistan      7      10      9         10            9        7   \n",
       "138      Vietnam     10       9      9          7           10        6   \n",
       "54     Indonesia      7       9      6         10            9        9   \n",
       "36       Estonia     10       8      7         10            6        9   \n",
       "126     Thailand      8       7      7          9            8       10   \n",
       "123       Taiwan      9       6     10         10            7        7   \n",
       "100     Paraguay      9       6      6         10            9        9   \n",
       "122  Switzerland      9       7      8          9            7        9   \n",
       "\n",
       "     Composite  \n",
       "76    8.666667  \n",
       "136   8.666667  \n",
       "138   8.500000  \n",
       "54    8.333333  \n",
       "36    8.333333  \n",
       "126   8.166667  \n",
       "123   8.166667  \n",
       "100   8.166667  \n",
       "122   8.166667  "
      ]
     },
     "execution_count": 460,
     "metadata": {},
     "output_type": "execute_result"
    }
   ],
   "source": [
    "df_result1[df_result1['Composite']>threshold]"
   ]
  },
  {
   "cell_type": "code",
   "execution_count": 461,
   "metadata": {},
   "outputs": [
    {
     "data": {
      "text/plain": [
       "array(['Vietnam', 'Malaysia', 'Uzbekistan', 'Taiwan', 'Paraguay',\n",
       "       'Indonesia', 'Kyrgyzstan', 'Estonia', 'Mexico', 'Kuwait',\n",
       "       'Switzerland', 'Panama', 'Thailand', 'Denmark', 'Finland',\n",
       "       'Saudi Arabia', 'Kosovo', 'Kazakhstan', 'Singapore', 'Norway',\n",
       "       'Sweden', 'Luxembourg', 'Netherlands', 'Costa Rica', 'Guatemala',\n",
       "       'Chile', 'China', 'Iceland', 'Somalia', 'Austria', 'Tajikistan',\n",
       "       'Germany', 'Ireland', 'Uruguay', 'Kenya', 'Mauritius', 'Belgium',\n",
       "       'New Zealand', 'Honduras', 'Senegal', 'Czech Republic', 'France',\n",
       "       'Colombia', 'Dominican Republic', 'Venezuela', 'Namibia',\n",
       "       'Mongolia', 'United Kingdom', 'Poland', 'Russian Federation',\n",
       "       'Australia', 'Hungary', 'Philippines', 'South Africa',\n",
       "       'El Salvador', 'Nicaragua', 'Zimbabwe', 'Botswana', 'Slovakia',\n",
       "       'Hong Kong', 'Slovenia', 'Tanzania', 'Latvia', 'Japan', 'Mali',\n",
       "       'Argentina', 'Portugal', 'Brazil', 'Eswatini', 'Serbia', 'Italy',\n",
       "       'Georgia', 'Moldova', 'Nigeria', 'Ecuador', 'Spain', 'South Korea',\n",
       "       'Canada', 'United States of America', 'Bosnia and Herzegovina',\n",
       "       'Peru', 'Bulgaria', 'Bahrain', 'Ghana', 'United Arab Emirates',\n",
       "       \"Cote d'Ivoire\", 'Croatia', 'Gambia', 'Azerbaijan', 'Bolivia',\n",
       "       'Cyprus', 'Mauritania', 'Romania', 'Mozambique', 'India',\n",
       "       'Cambodia', 'Uganda', 'Malta', 'North Macedonia', 'Albania',\n",
       "       'Laos', 'Niger', 'Zambia', 'Madagascar', 'Lithuania', 'Greece',\n",
       "       'Burkina Faso', 'Montenegro', 'Sri Lanka', 'Armenia', 'Malawi',\n",
       "       'Gabon', 'State of Palestine', 'Libya', 'Iran', 'Cameroon',\n",
       "       'Ethiopia', 'Myanmar', 'Republic of the Congo', 'Ukraine', 'Yemen',\n",
       "       'Pakistan', 'Togo', 'Liberia', 'Tunisia', 'Morocco', 'Iraq',\n",
       "       'Benin', 'Guinea', 'Nepal', 'Egypt', 'Bangladesh', 'Comoros',\n",
       "       'Israel', 'Jordan', 'Lebanon', 'Turkiye',\n",
       "       'Democratic Republic of the Congo', 'Sierra Leone', 'Chad',\n",
       "       'Northern Cyprus', 'Afghanistan'], dtype=object)"
      ]
     },
     "execution_count": 461,
     "metadata": {},
     "output_type": "execute_result"
    }
   ],
   "source": [
    "df_result.sort_values(by='Composite', ascending=False).Country.values"
   ]
  },
  {
   "cell_type": "markdown",
   "metadata": {},
   "source": [
    "**Weighted approach**"
   ]
  },
  {
   "cell_type": "code",
   "execution_count": 462,
   "metadata": {},
   "outputs": [],
   "source": [
    "emotion_weights =   {'Anger':       1, \n",
    "                     'Sadness':     1.5,\n",
    "                     'Stress':      1,\n",
    "                     'Worry':       1,\n",
    "                     'Pain':        1.5,\n",
    "                     'Enjoyment':   1,\n",
    "                     'Well-Rested': 1,\n",
    "                     'Learned':     1,\n",
    "                     'Smiled':      .5,\n",
    "                     'Respect':     1\n",
    "                    }"
   ]
  },
  {
   "cell_type": "code",
   "execution_count": 439,
   "metadata": {},
   "outputs": [],
   "source": [
    "df_w = pd.DataFrame(country_names, columns=[\"Country\"])\n",
    "for emotion in emotions:\n",
    "    df_w[emotion] = df_result[emotion]*emotion_weights[emotion]\n",
    "df_w['Composite'] = df_w.mean(axis=1, numeric_only=True)\n",
    "df_w              = df_w.sort_values(by='Composite', ascending=False)"
   ]
  },
  {
   "cell_type": "code",
   "execution_count": 440,
   "metadata": {},
   "outputs": [
    {
     "data": {
      "text/plain": [
       "array(['Vietnam', 'Malaysia', 'Uzbekistan', 'Taiwan', 'Kyrgyzstan',\n",
       "       'Estonia', 'Paraguay', 'Indonesia', 'Kuwait', 'Switzerland',\n",
       "       'Mexico', 'Kazakhstan', 'Finland', 'Denmark', 'Thailand', 'Panama',\n",
       "       'Singapore', 'China', 'Saudi Arabia', 'Kosovo', 'Sweden',\n",
       "       'Luxembourg', 'Netherlands', 'Norway', 'Tajikistan', 'Austria',\n",
       "       'Germany', 'Ireland', 'Somalia', 'Iceland', 'Poland', 'Mongolia',\n",
       "       'Costa Rica', 'Chile', 'Mauritius', 'New Zealand', 'Kenya',\n",
       "       'Guatemala', 'France', 'Hungary', 'Belgium', 'Russian Federation',\n",
       "       'Czech Republic', 'Uruguay', 'Namibia', 'Honduras', 'Australia',\n",
       "       'United Kingdom', 'Colombia', 'Hong Kong', 'Dominican Republic',\n",
       "       'Senegal', 'South Africa', 'Venezuela', 'Philippines', 'Slovakia',\n",
       "       'Slovenia', 'Japan', 'Zimbabwe', 'Serbia', 'El Salvador',\n",
       "       'Botswana', 'Latvia', 'Nicaragua', 'Tanzania', 'Georgia',\n",
       "       'Bosnia and Herzegovina', 'South Korea', 'Mali', 'Bulgaria',\n",
       "       'Croatia', 'Moldova', 'Brazil', 'Spain', 'Portugal', 'Canada',\n",
       "       'United States of America', 'Argentina', 'Nigeria', 'Italy',\n",
       "       'United Arab Emirates', 'Azerbaijan', 'Eswatini', 'Ecuador',\n",
       "       'Ghana', 'Cyprus', 'Bahrain', \"Cote d'Ivoire\", 'Peru',\n",
       "       'North Macedonia', 'Gambia', 'Romania', 'Mozambique', 'Bolivia',\n",
       "       'Malta', 'Mauritania', 'Lithuania', 'India', 'Cambodia',\n",
       "       'Montenegro', 'Uganda', 'Albania', 'Greece', 'Zambia', 'Laos',\n",
       "       'Niger', 'Burkina Faso', 'Madagascar', 'Sri Lanka', 'Armenia',\n",
       "       'Libya', 'Iran', 'Malawi', 'Ethiopia', 'State of Palestine',\n",
       "       'Cameroon', 'Gabon', 'Yemen', 'Ukraine', 'Myanmar',\n",
       "       'Republic of the Congo', 'Togo', 'Tunisia', 'Pakistan', 'Nepal',\n",
       "       'Morocco', 'Liberia', 'Egypt', 'Turkiye', 'Benin', 'Iraq',\n",
       "       'Israel', 'Bangladesh', 'Guinea', 'Lebanon', 'Jordan', 'Comoros',\n",
       "       'Democratic Republic of the Congo', 'Northern Cyprus',\n",
       "       'Sierra Leone', 'Chad', 'Afghanistan'], dtype=object)"
      ]
     },
     "execution_count": 440,
     "metadata": {},
     "output_type": "execute_result"
    }
   ],
   "source": [
    "df_w.Country.values"
   ]
  },
  {
   "cell_type": "markdown",
   "metadata": {},
   "source": [
    "**Let's try to do deciles now**"
   ]
  },
  {
   "cell_type": "code",
   "execution_count": 327,
   "metadata": {},
   "outputs": [],
   "source": [
    "dfq = pd.DataFrame(country_names, columns=['Country'])\n",
    "for emotion in emotions:\n",
    "    dfq[emotion] = pd.qcut(df[emotion], q=10, labels=False)\n",
    "    \n",
    "dfq['Composite'] = dfq.mean(axis=1, numeric_only=True)\n",
    "dfq = dfq.sort_values(by='Composite', ascending=False)"
   ]
  },
  {
   "cell_type": "code",
   "execution_count": 418,
   "metadata": {},
   "outputs": [
    {
     "data": {
      "text/html": [
       "<div>\n",
       "<style scoped>\n",
       "    .dataframe tbody tr th:only-of-type {\n",
       "        vertical-align: middle;\n",
       "    }\n",
       "\n",
       "    .dataframe tbody tr th {\n",
       "        vertical-align: top;\n",
       "    }\n",
       "\n",
       "    .dataframe thead th {\n",
       "        text-align: right;\n",
       "    }\n",
       "</style>\n",
       "<table border=\"1\" class=\"dataframe\">\n",
       "  <thead>\n",
       "    <tr style=\"text-align: right;\">\n",
       "      <th></th>\n",
       "      <th>Country</th>\n",
       "      <th>Anger</th>\n",
       "      <th>Sadness</th>\n",
       "      <th>Stress</th>\n",
       "      <th>Worry</th>\n",
       "      <th>Pain</th>\n",
       "      <th>Enjoyment</th>\n",
       "      <th>Well-Rested</th>\n",
       "      <th>Learned</th>\n",
       "      <th>Smiled</th>\n",
       "      <th>Respect</th>\n",
       "      <th>Composite</th>\n",
       "    </tr>\n",
       "  </thead>\n",
       "  <tbody>\n",
       "    <tr>\n",
       "      <th>138</th>\n",
       "      <td>Vietnam</td>\n",
       "      <td>9</td>\n",
       "      <td>9</td>\n",
       "      <td>9</td>\n",
       "      <td>9</td>\n",
       "      <td>9</td>\n",
       "      <td>5</td>\n",
       "      <td>9</td>\n",
       "      <td>4</td>\n",
       "      <td>9</td>\n",
       "      <td>9</td>\n",
       "      <td>8.1</td>\n",
       "    </tr>\n",
       "    <tr>\n",
       "      <th>76</th>\n",
       "      <td>Malaysia</td>\n",
       "      <td>5</td>\n",
       "      <td>7</td>\n",
       "      <td>9</td>\n",
       "      <td>9</td>\n",
       "      <td>9</td>\n",
       "      <td>9</td>\n",
       "      <td>9</td>\n",
       "      <td>4</td>\n",
       "      <td>8</td>\n",
       "      <td>8</td>\n",
       "      <td>7.7</td>\n",
       "    </tr>\n",
       "    <tr>\n",
       "      <th>100</th>\n",
       "      <td>Paraguay</td>\n",
       "      <td>8</td>\n",
       "      <td>7</td>\n",
       "      <td>5</td>\n",
       "      <td>5</td>\n",
       "      <td>6</td>\n",
       "      <td>9</td>\n",
       "      <td>9</td>\n",
       "      <td>9</td>\n",
       "      <td>9</td>\n",
       "      <td>9</td>\n",
       "      <td>7.6</td>\n",
       "    </tr>\n",
       "    <tr>\n",
       "      <th>136</th>\n",
       "      <td>Uzbekistan</td>\n",
       "      <td>3</td>\n",
       "      <td>8</td>\n",
       "      <td>9</td>\n",
       "      <td>9</td>\n",
       "      <td>8</td>\n",
       "      <td>9</td>\n",
       "      <td>9</td>\n",
       "      <td>5</td>\n",
       "      <td>6</td>\n",
       "      <td>9</td>\n",
       "      <td>7.5</td>\n",
       "    </tr>\n",
       "    <tr>\n",
       "      <th>81</th>\n",
       "      <td>Mexico</td>\n",
       "      <td>9</td>\n",
       "      <td>6</td>\n",
       "      <td>4</td>\n",
       "      <td>5</td>\n",
       "      <td>6</td>\n",
       "      <td>9</td>\n",
       "      <td>9</td>\n",
       "      <td>8</td>\n",
       "      <td>9</td>\n",
       "      <td>9</td>\n",
       "      <td>7.4</td>\n",
       "    </tr>\n",
       "    <tr>\n",
       "      <th>99</th>\n",
       "      <td>Panama</td>\n",
       "      <td>8</td>\n",
       "      <td>5</td>\n",
       "      <td>4</td>\n",
       "      <td>4</td>\n",
       "      <td>7</td>\n",
       "      <td>9</td>\n",
       "      <td>9</td>\n",
       "      <td>9</td>\n",
       "      <td>9</td>\n",
       "      <td>9</td>\n",
       "      <td>7.3</td>\n",
       "    </tr>\n",
       "    <tr>\n",
       "      <th>36</th>\n",
       "      <td>Estonia</td>\n",
       "      <td>9</td>\n",
       "      <td>8</td>\n",
       "      <td>8</td>\n",
       "      <td>7</td>\n",
       "      <td>9</td>\n",
       "      <td>8</td>\n",
       "      <td>4</td>\n",
       "      <td>8</td>\n",
       "      <td>5</td>\n",
       "      <td>6</td>\n",
       "      <td>7.2</td>\n",
       "    </tr>\n",
       "    <tr>\n",
       "      <th>54</th>\n",
       "      <td>Indonesia</td>\n",
       "      <td>4</td>\n",
       "      <td>4</td>\n",
       "      <td>9</td>\n",
       "      <td>5</td>\n",
       "      <td>9</td>\n",
       "      <td>9</td>\n",
       "      <td>9</td>\n",
       "      <td>8</td>\n",
       "      <td>9</td>\n",
       "      <td>6</td>\n",
       "      <td>7.2</td>\n",
       "    </tr>\n",
       "    <tr>\n",
       "      <th>123</th>\n",
       "      <td>Taiwan</td>\n",
       "      <td>9</td>\n",
       "      <td>9</td>\n",
       "      <td>6</td>\n",
       "      <td>9</td>\n",
       "      <td>9</td>\n",
       "      <td>8</td>\n",
       "      <td>7</td>\n",
       "      <td>5</td>\n",
       "      <td>6</td>\n",
       "      <td>4</td>\n",
       "      <td>7.2</td>\n",
       "    </tr>\n",
       "    <tr>\n",
       "      <th>66</th>\n",
       "      <td>Kyrgyzstan</td>\n",
       "      <td>6</td>\n",
       "      <td>9</td>\n",
       "      <td>9</td>\n",
       "      <td>9</td>\n",
       "      <td>9</td>\n",
       "      <td>8</td>\n",
       "      <td>8</td>\n",
       "      <td>1</td>\n",
       "      <td>7</td>\n",
       "      <td>5</td>\n",
       "      <td>7.1</td>\n",
       "    </tr>\n",
       "    <tr>\n",
       "      <th>126</th>\n",
       "      <td>Thailand</td>\n",
       "      <td>6</td>\n",
       "      <td>8</td>\n",
       "      <td>8</td>\n",
       "      <td>7</td>\n",
       "      <td>3</td>\n",
       "      <td>8</td>\n",
       "      <td>8</td>\n",
       "      <td>9</td>\n",
       "      <td>8</td>\n",
       "      <td>6</td>\n",
       "      <td>7.1</td>\n",
       "    </tr>\n",
       "    <tr>\n",
       "      <th>122</th>\n",
       "      <td>Switzerland</td>\n",
       "      <td>8</td>\n",
       "      <td>8</td>\n",
       "      <td>8</td>\n",
       "      <td>8</td>\n",
       "      <td>6</td>\n",
       "      <td>7</td>\n",
       "      <td>7</td>\n",
       "      <td>9</td>\n",
       "      <td>4</td>\n",
       "      <td>5</td>\n",
       "      <td>7.0</td>\n",
       "    </tr>\n",
       "  </tbody>\n",
       "</table>\n",
       "</div>"
      ],
      "text/plain": [
       "         Country  Anger  Sadness  Stress  Worry  Pain  Enjoyment  Well-Rested  \\\n",
       "138      Vietnam      9        9       9      9     9          5            9   \n",
       "76      Malaysia      5        7       9      9     9          9            9   \n",
       "100     Paraguay      8        7       5      5     6          9            9   \n",
       "136   Uzbekistan      3        8       9      9     8          9            9   \n",
       "81        Mexico      9        6       4      5     6          9            9   \n",
       "99        Panama      8        5       4      4     7          9            9   \n",
       "36       Estonia      9        8       8      7     9          8            4   \n",
       "54     Indonesia      4        4       9      5     9          9            9   \n",
       "123       Taiwan      9        9       6      9     9          8            7   \n",
       "66    Kyrgyzstan      6        9       9      9     9          8            8   \n",
       "126     Thailand      6        8       8      7     3          8            8   \n",
       "122  Switzerland      8        8       8      8     6          7            7   \n",
       "\n",
       "     Learned  Smiled  Respect  Composite  \n",
       "138        4       9        9        8.1  \n",
       "76         4       8        8        7.7  \n",
       "100        9       9        9        7.6  \n",
       "136        5       6        9        7.5  \n",
       "81         8       9        9        7.4  \n",
       "99         9       9        9        7.3  \n",
       "36         8       5        6        7.2  \n",
       "54         8       9        6        7.2  \n",
       "123        5       6        4        7.2  \n",
       "66         1       7        5        7.1  \n",
       "126        9       8        6        7.1  \n",
       "122        9       4        5        7.0  "
      ]
     },
     "execution_count": 418,
     "metadata": {},
     "output_type": "execute_result"
    }
   ],
   "source": [
    "dfq.head(12)"
   ]
  },
  {
   "cell_type": "code",
   "execution_count": 419,
   "metadata": {},
   "outputs": [
    {
     "data": {
      "text/plain": [
       "array(['Vietnam', 'Taiwan', 'Malaysia', 'Uzbekistan', 'Kyrgyzstan',\n",
       "       'Estonia', 'Kazakhstan', 'Paraguay', 'Kuwait', 'Finland',\n",
       "       'Switzerland', 'Singapore', 'Indonesia', 'Denmark', 'Kosovo',\n",
       "       'Mexico', 'Thailand', 'China', 'Saudi Arabia', 'Sweden', 'Panama',\n",
       "       'Luxembourg', 'Poland', 'Netherlands', 'Mongolia', 'Tajikistan',\n",
       "       'Mauritius', 'Norway', 'Austria', 'Somalia', 'Russian Federation',\n",
       "       'Namibia', 'Germany', 'Iceland', 'Hungary', 'Hong Kong', 'Ireland',\n",
       "       'Kenya', 'New Zealand', 'France', 'Chile', 'Costa Rica', 'Belgium',\n",
       "       'Zimbabwe', 'Czech Republic', 'Japan', 'Australia', 'Uruguay',\n",
       "       'Guatemala', 'Serbia', 'United Kingdom', 'Honduras', 'Slovenia',\n",
       "       'Colombia', 'Dominican Republic', 'South Africa', 'Slovakia',\n",
       "       'Botswana', 'Senegal', 'Georgia', 'Venezuela', 'Latvia',\n",
       "       'Philippines', 'Bulgaria', 'Croatia', 'Bosnia and Herzegovina',\n",
       "       'South Korea', 'Azerbaijan', 'Tanzania', 'El Salvador', 'Moldova',\n",
       "       'Nicaragua', 'Mali', 'Nigeria', 'Spain', 'Portugal', 'Ghana',\n",
       "       'Italy', 'Brazil', 'United Arab Emirates', 'North Macedonia',\n",
       "       'Eswatini', 'United States of America', 'Argentina', 'Canada',\n",
       "       \"Cote d'Ivoire\", 'Cyprus', 'Lithuania', 'Bahrain', 'Mozambique',\n",
       "       'Romania', 'Ecuador', 'Gambia', 'Peru', 'Malta', 'Montenegro',\n",
       "       'Mauritania', 'Bolivia', 'India', 'Cambodia', 'Albania', 'Greece',\n",
       "       'Laos', 'Uganda', 'Zambia', 'Ethiopia', 'Burkina Faso', 'Malawi',\n",
       "       'Niger', 'Armenia', 'Sri Lanka', 'Cameroon', 'Yemen', 'Libya',\n",
       "       'Madagascar', 'Iran', 'State of Palestine', 'Ukraine', 'Gabon',\n",
       "       'Myanmar', 'Tunisia', 'Togo', 'Republic of the Congo', 'Turkiye',\n",
       "       'Pakistan', 'Nepal', 'Morocco', 'Egypt', 'Liberia', 'Benin',\n",
       "       'Lebanon', 'Bangladesh', 'Iraq', 'Israel', 'Jordan', 'Comoros',\n",
       "       'Guinea', 'Northern Cyprus', 'Democratic Republic of the Congo',\n",
       "       'Sierra Leone', 'Chad', 'Afghanistan'], dtype=object)"
      ]
     },
     "execution_count": 419,
     "metadata": {},
     "output_type": "execute_result"
    }
   ],
   "source": [
    "df_w.Country.values"
   ]
  },
  {
   "cell_type": "markdown",
   "metadata": {},
   "source": [
    "**Final comparison**"
   ]
  },
  {
   "cell_type": "code",
   "execution_count": 466,
   "metadata": {},
   "outputs": [
    {
     "data": {
      "text/html": [
       "<div>\n",
       "<style scoped>\n",
       "    .dataframe tbody tr th:only-of-type {\n",
       "        vertical-align: middle;\n",
       "    }\n",
       "\n",
       "    .dataframe tbody tr th {\n",
       "        vertical-align: top;\n",
       "    }\n",
       "\n",
       "    .dataframe thead th {\n",
       "        text-align: right;\n",
       "    }\n",
       "</style>\n",
       "<table border=\"1\" class=\"dataframe\">\n",
       "  <thead>\n",
       "    <tr style=\"text-align: right;\">\n",
       "      <th></th>\n",
       "      <th>simple</th>\n",
       "      <th>selected</th>\n",
       "      <th>weighted</th>\n",
       "      <th>deciles</th>\n",
       "    </tr>\n",
       "  </thead>\n",
       "  <tbody>\n",
       "    <tr>\n",
       "      <th>0</th>\n",
       "      <td>Vietnam</td>\n",
       "      <td>Malaysia</td>\n",
       "      <td>Vietnam</td>\n",
       "      <td>Vietnam</td>\n",
       "    </tr>\n",
       "    <tr>\n",
       "      <th>1</th>\n",
       "      <td>Malaysia</td>\n",
       "      <td>Uzbekistan</td>\n",
       "      <td>Malaysia</td>\n",
       "      <td>Malaysia</td>\n",
       "    </tr>\n",
       "  </tbody>\n",
       "</table>\n",
       "</div>"
      ],
      "text/plain": [
       "     simple    selected  weighted   deciles\n",
       "0   Vietnam    Malaysia   Vietnam   Vietnam\n",
       "1  Malaysia  Uzbekistan  Malaysia  Malaysia"
      ]
     },
     "execution_count": 466,
     "metadata": {},
     "output_type": "execute_result"
    }
   ],
   "source": [
    "cut_off = 2\n",
    "\n",
    "df_final = pd.DataFrame()\n",
    "df_final['simple'] = df_result.Country.values[:cut_off]\n",
    "df_final['selected'] = df_result1.Country.values[:cut_off]\n",
    "df_final['weighted'] = df_w.Country.values[:cut_off]\n",
    "df_final['deciles'] = dfq.Country.values[:cut_off]\n",
    "\n",
    "df_final"
   ]
  },
  {
   "cell_type": "code",
   "execution_count": 467,
   "metadata": {},
   "outputs": [
    {
     "data": {
      "text/plain": [
       "{'Malaysia'}"
      ]
     },
     "execution_count": 467,
     "metadata": {},
     "output_type": "execute_result"
    }
   ],
   "source": [
    "simple   = set(df_result.Country.values[:cut_off])\n",
    "selected = set(df_result1.Country.values[:cut_off])\n",
    "weighted = set(df_w.Country.values[:cut_off])\n",
    "deciles  = set(dfq.Country.values[:cut_off])\n",
    "\n",
    "simple & selected & weighted & deciles"
   ]
  },
  {
   "cell_type": "code",
   "execution_count": 468,
   "metadata": {},
   "outputs": [
    {
     "data": {
      "text/plain": [
       "'Malaysia'"
      ]
     },
     "execution_count": 468,
     "metadata": {},
     "output_type": "execute_result"
    }
   ],
   "source": [
    "', '.join(simple & selected & deciles)"
   ]
  },
  {
   "cell_type": "markdown",
   "metadata": {},
   "source": [
    "**Let's plot the data**"
   ]
  },
  {
   "cell_type": "code",
   "execution_count": 16,
   "metadata": {},
   "outputs": [
    {
     "data": {
      "text/plain": [
       "array(['Afghanistan', 'Albania', 'Algeria', 'Angola', 'Argentina',\n",
       "       'Australia', 'Austria', 'Bahrain', 'Bangladesh', 'Belgium',\n",
       "       'Benin', 'Bolivia', 'Bosnia and Herzegovina', 'Botswana', 'Brazil',\n",
       "       'Bulgaria', 'Burkina Faso', 'Burundi', 'Cambodia', 'Cameroon',\n",
       "       'Canada', 'Central African Republic', 'Chad', 'Chile', 'China',\n",
       "       'Colombia', 'Comoros', 'Congo, Dem. Rep.', 'Congo, Rep.',\n",
       "       'Costa Rica', \"Cote d'Ivoire\", 'Croatia', 'Cuba', 'Czech Republic',\n",
       "       'Denmark', 'Djibouti', 'Dominican Republic', 'Ecuador', 'Egypt',\n",
       "       'El Salvador', 'Equatorial Guinea', 'Eritrea', 'Ethiopia',\n",
       "       'Finland', 'France', 'Gabon', 'Gambia', 'Germany', 'Ghana',\n",
       "       'Greece', 'Guatemala', 'Guinea', 'Guinea-Bissau', 'Haiti',\n",
       "       'Honduras', 'Hong Kong, China', 'Hungary', 'Iceland', 'India',\n",
       "       'Indonesia', 'Iran', 'Iraq', 'Ireland', 'Israel', 'Italy',\n",
       "       'Jamaica', 'Japan', 'Jordan', 'Kenya', 'Korea, Dem. Rep.',\n",
       "       'Korea, Rep.', 'Kuwait', 'Lebanon', 'Lesotho', 'Liberia', 'Libya',\n",
       "       'Madagascar', 'Malawi', 'Malaysia', 'Mali', 'Mauritania',\n",
       "       'Mauritius', 'Mexico', 'Mongolia', 'Montenegro', 'Morocco',\n",
       "       'Mozambique', 'Myanmar', 'Namibia', 'Nepal', 'Netherlands',\n",
       "       'New Zealand', 'Nicaragua', 'Niger', 'Nigeria', 'Norway', 'Oman',\n",
       "       'Pakistan', 'Panama', 'Paraguay', 'Peru', 'Philippines', 'Poland',\n",
       "       'Portugal', 'Puerto Rico', 'Reunion', 'Romania', 'Rwanda',\n",
       "       'Sao Tome and Principe', 'Saudi Arabia', 'Senegal', 'Serbia',\n",
       "       'Sierra Leone', 'Singapore', 'Slovak Republic', 'Slovenia',\n",
       "       'Somalia', 'South Africa', 'Spain', 'Sri Lanka', 'Sudan',\n",
       "       'Swaziland', 'Sweden', 'Switzerland', 'Syria', 'Taiwan',\n",
       "       'Tanzania', 'Thailand', 'Togo', 'Trinidad and Tobago', 'Tunisia',\n",
       "       'Turkey', 'Uganda', 'United Kingdom', 'United States', 'Uruguay',\n",
       "       'Venezuela', 'Vietnam', 'West Bank and Gaza', 'Yemen, Rep.',\n",
       "       'Zambia', 'Zimbabwe'], dtype=object)"
      ]
     },
     "execution_count": 16,
     "metadata": {},
     "output_type": "execute_result"
    }
   ],
   "source": [
    "standard_names = pd.read_csv('gapminder_with_codes.csv').country.values\n",
    "np.unique(standard_names)"
   ]
  },
  {
   "cell_type": "code",
   "execution_count": 85,
   "metadata": {},
   "outputs": [
    {
     "data": {
      "application/vnd.plotly.v1+json": {
       "config": {
        "plotlyServerURL": "https://plot.ly"
       },
       "data": [
        {
         "coloraxis": "coloraxis",
         "geo": "geo",
         "hovertemplate": "<b>%{hovertext}</b><br><br>Country=%{location}<br>Composite=%{z}<extra></extra>",
         "hovertext": [
          "Viet Nam",
          "Malaysia",
          "Uzbekistan",
          "Taiwan, Province of China",
          "Paraguay",
          "Indonesia",
          "Kyrgyzstan",
          "Estonia",
          "Mexico",
          "Kuwait",
          "Switzerland",
          "Panama",
          "Thailand",
          "Denmark",
          "Finland",
          "Saudi Arabia",
          "Singapore",
          "Kazakhstan",
          "Kosovo",
          "Netherlands",
          "Norway",
          "Sweden",
          "Luxembourg",
          "Guatemala",
          "Chile",
          "China",
          "Costa Rica",
          "Iceland",
          "Somalia",
          "Austria",
          "Tajikistan",
          "Germany",
          "Ireland",
          "Belgium",
          "New Zealand",
          "Honduras",
          "Mauritius",
          "Uruguay",
          "Kenya",
          "Senegal",
          "Czech Republic",
          "France",
          "Colombia",
          "Hungary",
          "Philippines",
          "Australia",
          "Russian Federation",
          "Poland",
          "Dominican Republic",
          "Mongolia",
          "Namibia",
          "Venezuela, Bolivarian Republic of",
          "United Kingdom",
          "El Salvador",
          "South Africa",
          "Nicaragua",
          "Zimbabwe",
          "Botswana",
          "Slovakia",
          "Hong Kong",
          "Slovenia",
          "Tanzania, United Republic of",
          "Latvia",
          "Japan",
          "Mali",
          "Argentina",
          "Portugal",
          "Korea, Republic of",
          "Spain",
          "United States",
          "Canada",
          "Nigeria",
          "Ecuador",
          "Serbia",
          "Moldova, Republic of",
          "Swaziland",
          "Brazil",
          "Italy",
          "Georgia",
          "Côte d'Ivoire",
          "Bosnia and Herzegovina",
          "Peru",
          "Bulgaria",
          "Bahrain",
          "Ghana",
          "United Arab Emirates",
          "Croatia",
          "Gambia",
          "Cyprus",
          "Mauritania",
          "Bolivia, Plurinational State of",
          "Azerbaijan",
          "Romania",
          "Mozambique",
          "India",
          "North Macedonia",
          "Malta",
          "Cambodia",
          "Uganda",
          "Albania",
          "Lao People's Democratic Republic",
          "Niger",
          "Zambia",
          "Madagascar",
          "Lithuania",
          "Greece",
          "Sri Lanka",
          "Burkina Faso",
          "Montenegro",
          "Armenia",
          "Malawi",
          "Gabon",
          "State of Palestine",
          "Libya",
          "Iran, Islamic Republic of",
          "Cameroon",
          "Ethiopia",
          "Myanmar",
          "Congo",
          "Ukraine",
          "Yemen",
          "Pakistan",
          "Togo",
          "Liberia",
          "Morocco",
          "Tunisia",
          "Iraq",
          "Benin",
          "Guinea",
          "Nepal",
          "Egypt",
          "Bangladesh",
          "Jordan",
          "Israel",
          "Comoros",
          "Lebanon",
          "Turkey",
          "Congo, the Democratic Republic of the",
          "Sierra Leone",
          "Chad",
          "Northern Cyprus",
          "Afghanistan"
         ],
         "locationmode": "country names",
         "locations": [
          "Viet Nam",
          "Malaysia",
          "Uzbekistan",
          "Taiwan, Province of China",
          "Paraguay",
          "Indonesia",
          "Kyrgyzstan",
          "Estonia",
          "Mexico",
          "Kuwait",
          "Switzerland",
          "Panama",
          "Thailand",
          "Denmark",
          "Finland",
          "Saudi Arabia",
          "Singapore",
          "Kazakhstan",
          "Kosovo",
          "Netherlands",
          "Norway",
          "Sweden",
          "Luxembourg",
          "Guatemala",
          "Chile",
          "China",
          "Costa Rica",
          "Iceland",
          "Somalia",
          "Austria",
          "Tajikistan",
          "Germany",
          "Ireland",
          "Belgium",
          "New Zealand",
          "Honduras",
          "Mauritius",
          "Uruguay",
          "Kenya",
          "Senegal",
          "Czech Republic",
          "France",
          "Colombia",
          "Hungary",
          "Philippines",
          "Australia",
          "Russian Federation",
          "Poland",
          "Dominican Republic",
          "Mongolia",
          "Namibia",
          "Venezuela, Bolivarian Republic of",
          "United Kingdom",
          "El Salvador",
          "South Africa",
          "Nicaragua",
          "Zimbabwe",
          "Botswana",
          "Slovakia",
          "Hong Kong",
          "Slovenia",
          "Tanzania, United Republic of",
          "Latvia",
          "Japan",
          "Mali",
          "Argentina",
          "Portugal",
          "Korea, Republic of",
          "Spain",
          "United States",
          "Canada",
          "Nigeria",
          "Ecuador",
          "Serbia",
          "Moldova, Republic of",
          "Swaziland",
          "Brazil",
          "Italy",
          "Georgia",
          "Côte d'Ivoire",
          "Bosnia and Herzegovina",
          "Peru",
          "Bulgaria",
          "Bahrain",
          "Ghana",
          "United Arab Emirates",
          "Croatia",
          "Gambia",
          "Cyprus",
          "Mauritania",
          "Bolivia, Plurinational State of",
          "Azerbaijan",
          "Romania",
          "Mozambique",
          "India",
          "North Macedonia",
          "Malta",
          "Cambodia",
          "Uganda",
          "Albania",
          "Lao People's Democratic Republic",
          "Niger",
          "Zambia",
          "Madagascar",
          "Lithuania",
          "Greece",
          "Sri Lanka",
          "Burkina Faso",
          "Montenegro",
          "Armenia",
          "Malawi",
          "Gabon",
          "State of Palestine",
          "Libya",
          "Iran, Islamic Republic of",
          "Cameroon",
          "Ethiopia",
          "Myanmar",
          "Congo",
          "Ukraine",
          "Yemen",
          "Pakistan",
          "Togo",
          "Liberia",
          "Morocco",
          "Tunisia",
          "Iraq",
          "Benin",
          "Guinea",
          "Nepal",
          "Egypt",
          "Bangladesh",
          "Jordan",
          "Israel",
          "Comoros",
          "Lebanon",
          "Turkey",
          "Congo, the Democratic Republic of the",
          "Sierra Leone",
          "Chad",
          "Northern Cyprus",
          "Afghanistan"
         ],
         "name": "",
         "type": "choropleth",
         "z": [
          9,
          8.8,
          8.7,
          8.5,
          8.4,
          8.3,
          8.3,
          8.3,
          8.2,
          8.1,
          8.1,
          8.1,
          8.1,
          8,
          7.9,
          7.9,
          7.8,
          7.8,
          7.8,
          7.7,
          7.7,
          7.7,
          7.7,
          7.6,
          7.6,
          7.6,
          7.6,
          7.6,
          7.6,
          7.5,
          7.5,
          7.5,
          7.5,
          7.4,
          7.4,
          7.4,
          7.4,
          7.4,
          7.4,
          7.3,
          7.3,
          7.3,
          7.3,
          7.2,
          7.2,
          7.2,
          7.2,
          7.2,
          7.2,
          7.2,
          7.2,
          7.2,
          7.2,
          7.1,
          7.1,
          7,
          6.9,
          6.9,
          6.8,
          6.8,
          6.8,
          6.8,
          6.7,
          6.7,
          6.7,
          6.6,
          6.6,
          6.5,
          6.5,
          6.5,
          6.5,
          6.5,
          6.5,
          6.5,
          6.5,
          6.5,
          6.5,
          6.5,
          6.5,
          6.4,
          6.4,
          6.4,
          6.4,
          6.4,
          6.4,
          6.4,
          6.3,
          6.3,
          6.2,
          6.2,
          6.2,
          6.2,
          6.1,
          6.1,
          6,
          5.9,
          5.9,
          5.9,
          5.9,
          5.7,
          5.7,
          5.7,
          5.7,
          5.6,
          5.6,
          5.5,
          5.4,
          5.4,
          5.4,
          5.2,
          5.2,
          5.2,
          5.1,
          5.1,
          5.1,
          5.1,
          5,
          4.9,
          4.8,
          4.8,
          4.7,
          4.6,
          4.6,
          4.6,
          4.5,
          4.5,
          4.4,
          4.4,
          4.4,
          4.4,
          4.3,
          4.2,
          4,
          4,
          4,
          3.8,
          3.8,
          3.7,
          3.4,
          3.3,
          3,
          2.3
         ]
        }
       ],
       "layout": {
        "autosize": true,
        "coloraxis": {
         "colorbar": {
          "title": {
           "text": "Composite"
          }
         },
         "colorscale": [
          [
           0,
           "yellow"
          ],
          [
           0.8,
           "orange"
          ],
          [
           1,
           "red"
          ]
         ]
        },
        "geo": {
         "center": {
          "lat": 0.10726827743542634,
          "lon": -4.376408036101907
         },
         "domain": {
          "x": [
           0,
           1
          ],
          "y": [
           0,
           1
          ]
         },
         "projection": {
          "rotation": {
           "lon": -4.376408036101907
          },
          "scale": 1.0266895457199992,
          "type": "natural earth"
         },
         "scope": "world"
        },
        "legend": {
         "tracegroupgap": 0
        },
        "margin": {
         "b": 0,
         "l": 0,
         "r": 0,
         "t": 0
        },
        "template": {
         "data": {
          "bar": [
           {
            "error_x": {
             "color": "#2a3f5f"
            },
            "error_y": {
             "color": "#2a3f5f"
            },
            "marker": {
             "line": {
              "color": "#E5ECF6",
              "width": 0.5
             },
             "pattern": {
              "fillmode": "overlay",
              "size": 10,
              "solidity": 0.2
             }
            },
            "type": "bar"
           }
          ],
          "barpolar": [
           {
            "marker": {
             "line": {
              "color": "#E5ECF6",
              "width": 0.5
             },
             "pattern": {
              "fillmode": "overlay",
              "size": 10,
              "solidity": 0.2
             }
            },
            "type": "barpolar"
           }
          ],
          "carpet": [
           {
            "aaxis": {
             "endlinecolor": "#2a3f5f",
             "gridcolor": "white",
             "linecolor": "white",
             "minorgridcolor": "white",
             "startlinecolor": "#2a3f5f"
            },
            "baxis": {
             "endlinecolor": "#2a3f5f",
             "gridcolor": "white",
             "linecolor": "white",
             "minorgridcolor": "white",
             "startlinecolor": "#2a3f5f"
            },
            "type": "carpet"
           }
          ],
          "choropleth": [
           {
            "colorbar": {
             "outlinewidth": 0,
             "ticks": ""
            },
            "type": "choropleth"
           }
          ],
          "contour": [
           {
            "colorbar": {
             "outlinewidth": 0,
             "ticks": ""
            },
            "colorscale": [
             [
              0,
              "#0d0887"
             ],
             [
              0.1111111111111111,
              "#46039f"
             ],
             [
              0.2222222222222222,
              "#7201a8"
             ],
             [
              0.3333333333333333,
              "#9c179e"
             ],
             [
              0.4444444444444444,
              "#bd3786"
             ],
             [
              0.5555555555555556,
              "#d8576b"
             ],
             [
              0.6666666666666666,
              "#ed7953"
             ],
             [
              0.7777777777777778,
              "#fb9f3a"
             ],
             [
              0.8888888888888888,
              "#fdca26"
             ],
             [
              1,
              "#f0f921"
             ]
            ],
            "type": "contour"
           }
          ],
          "contourcarpet": [
           {
            "colorbar": {
             "outlinewidth": 0,
             "ticks": ""
            },
            "type": "contourcarpet"
           }
          ],
          "heatmap": [
           {
            "colorbar": {
             "outlinewidth": 0,
             "ticks": ""
            },
            "colorscale": [
             [
              0,
              "#0d0887"
             ],
             [
              0.1111111111111111,
              "#46039f"
             ],
             [
              0.2222222222222222,
              "#7201a8"
             ],
             [
              0.3333333333333333,
              "#9c179e"
             ],
             [
              0.4444444444444444,
              "#bd3786"
             ],
             [
              0.5555555555555556,
              "#d8576b"
             ],
             [
              0.6666666666666666,
              "#ed7953"
             ],
             [
              0.7777777777777778,
              "#fb9f3a"
             ],
             [
              0.8888888888888888,
              "#fdca26"
             ],
             [
              1,
              "#f0f921"
             ]
            ],
            "type": "heatmap"
           }
          ],
          "heatmapgl": [
           {
            "colorbar": {
             "outlinewidth": 0,
             "ticks": ""
            },
            "colorscale": [
             [
              0,
              "#0d0887"
             ],
             [
              0.1111111111111111,
              "#46039f"
             ],
             [
              0.2222222222222222,
              "#7201a8"
             ],
             [
              0.3333333333333333,
              "#9c179e"
             ],
             [
              0.4444444444444444,
              "#bd3786"
             ],
             [
              0.5555555555555556,
              "#d8576b"
             ],
             [
              0.6666666666666666,
              "#ed7953"
             ],
             [
              0.7777777777777778,
              "#fb9f3a"
             ],
             [
              0.8888888888888888,
              "#fdca26"
             ],
             [
              1,
              "#f0f921"
             ]
            ],
            "type": "heatmapgl"
           }
          ],
          "histogram": [
           {
            "marker": {
             "pattern": {
              "fillmode": "overlay",
              "size": 10,
              "solidity": 0.2
             }
            },
            "type": "histogram"
           }
          ],
          "histogram2d": [
           {
            "colorbar": {
             "outlinewidth": 0,
             "ticks": ""
            },
            "colorscale": [
             [
              0,
              "#0d0887"
             ],
             [
              0.1111111111111111,
              "#46039f"
             ],
             [
              0.2222222222222222,
              "#7201a8"
             ],
             [
              0.3333333333333333,
              "#9c179e"
             ],
             [
              0.4444444444444444,
              "#bd3786"
             ],
             [
              0.5555555555555556,
              "#d8576b"
             ],
             [
              0.6666666666666666,
              "#ed7953"
             ],
             [
              0.7777777777777778,
              "#fb9f3a"
             ],
             [
              0.8888888888888888,
              "#fdca26"
             ],
             [
              1,
              "#f0f921"
             ]
            ],
            "type": "histogram2d"
           }
          ],
          "histogram2dcontour": [
           {
            "colorbar": {
             "outlinewidth": 0,
             "ticks": ""
            },
            "colorscale": [
             [
              0,
              "#0d0887"
             ],
             [
              0.1111111111111111,
              "#46039f"
             ],
             [
              0.2222222222222222,
              "#7201a8"
             ],
             [
              0.3333333333333333,
              "#9c179e"
             ],
             [
              0.4444444444444444,
              "#bd3786"
             ],
             [
              0.5555555555555556,
              "#d8576b"
             ],
             [
              0.6666666666666666,
              "#ed7953"
             ],
             [
              0.7777777777777778,
              "#fb9f3a"
             ],
             [
              0.8888888888888888,
              "#fdca26"
             ],
             [
              1,
              "#f0f921"
             ]
            ],
            "type": "histogram2dcontour"
           }
          ],
          "mesh3d": [
           {
            "colorbar": {
             "outlinewidth": 0,
             "ticks": ""
            },
            "type": "mesh3d"
           }
          ],
          "parcoords": [
           {
            "line": {
             "colorbar": {
              "outlinewidth": 0,
              "ticks": ""
             }
            },
            "type": "parcoords"
           }
          ],
          "pie": [
           {
            "automargin": true,
            "type": "pie"
           }
          ],
          "scatter": [
           {
            "fillpattern": {
             "fillmode": "overlay",
             "size": 10,
             "solidity": 0.2
            },
            "type": "scatter"
           }
          ],
          "scatter3d": [
           {
            "line": {
             "colorbar": {
              "outlinewidth": 0,
              "ticks": ""
             }
            },
            "marker": {
             "colorbar": {
              "outlinewidth": 0,
              "ticks": ""
             }
            },
            "type": "scatter3d"
           }
          ],
          "scattercarpet": [
           {
            "marker": {
             "colorbar": {
              "outlinewidth": 0,
              "ticks": ""
             }
            },
            "type": "scattercarpet"
           }
          ],
          "scattergeo": [
           {
            "marker": {
             "colorbar": {
              "outlinewidth": 0,
              "ticks": ""
             }
            },
            "type": "scattergeo"
           }
          ],
          "scattergl": [
           {
            "marker": {
             "colorbar": {
              "outlinewidth": 0,
              "ticks": ""
             }
            },
            "type": "scattergl"
           }
          ],
          "scattermapbox": [
           {
            "marker": {
             "colorbar": {
              "outlinewidth": 0,
              "ticks": ""
             }
            },
            "type": "scattermapbox"
           }
          ],
          "scatterpolar": [
           {
            "marker": {
             "colorbar": {
              "outlinewidth": 0,
              "ticks": ""
             }
            },
            "type": "scatterpolar"
           }
          ],
          "scatterpolargl": [
           {
            "marker": {
             "colorbar": {
              "outlinewidth": 0,
              "ticks": ""
             }
            },
            "type": "scatterpolargl"
           }
          ],
          "scatterternary": [
           {
            "marker": {
             "colorbar": {
              "outlinewidth": 0,
              "ticks": ""
             }
            },
            "type": "scatterternary"
           }
          ],
          "surface": [
           {
            "colorbar": {
             "outlinewidth": 0,
             "ticks": ""
            },
            "colorscale": [
             [
              0,
              "#0d0887"
             ],
             [
              0.1111111111111111,
              "#46039f"
             ],
             [
              0.2222222222222222,
              "#7201a8"
             ],
             [
              0.3333333333333333,
              "#9c179e"
             ],
             [
              0.4444444444444444,
              "#bd3786"
             ],
             [
              0.5555555555555556,
              "#d8576b"
             ],
             [
              0.6666666666666666,
              "#ed7953"
             ],
             [
              0.7777777777777778,
              "#fb9f3a"
             ],
             [
              0.8888888888888888,
              "#fdca26"
             ],
             [
              1,
              "#f0f921"
             ]
            ],
            "type": "surface"
           }
          ],
          "table": [
           {
            "cells": {
             "fill": {
              "color": "#EBF0F8"
             },
             "line": {
              "color": "white"
             }
            },
            "header": {
             "fill": {
              "color": "#C8D4E3"
             },
             "line": {
              "color": "white"
             }
            },
            "type": "table"
           }
          ]
         },
         "layout": {
          "annotationdefaults": {
           "arrowcolor": "#2a3f5f",
           "arrowhead": 0,
           "arrowwidth": 1
          },
          "autotypenumbers": "strict",
          "coloraxis": {
           "colorbar": {
            "outlinewidth": 0,
            "ticks": ""
           }
          },
          "colorscale": {
           "diverging": [
            [
             0,
             "#8e0152"
            ],
            [
             0.1,
             "#c51b7d"
            ],
            [
             0.2,
             "#de77ae"
            ],
            [
             0.3,
             "#f1b6da"
            ],
            [
             0.4,
             "#fde0ef"
            ],
            [
             0.5,
             "#f7f7f7"
            ],
            [
             0.6,
             "#e6f5d0"
            ],
            [
             0.7,
             "#b8e186"
            ],
            [
             0.8,
             "#7fbc41"
            ],
            [
             0.9,
             "#4d9221"
            ],
            [
             1,
             "#276419"
            ]
           ],
           "sequential": [
            [
             0,
             "#0d0887"
            ],
            [
             0.1111111111111111,
             "#46039f"
            ],
            [
             0.2222222222222222,
             "#7201a8"
            ],
            [
             0.3333333333333333,
             "#9c179e"
            ],
            [
             0.4444444444444444,
             "#bd3786"
            ],
            [
             0.5555555555555556,
             "#d8576b"
            ],
            [
             0.6666666666666666,
             "#ed7953"
            ],
            [
             0.7777777777777778,
             "#fb9f3a"
            ],
            [
             0.8888888888888888,
             "#fdca26"
            ],
            [
             1,
             "#f0f921"
            ]
           ],
           "sequentialminus": [
            [
             0,
             "#0d0887"
            ],
            [
             0.1111111111111111,
             "#46039f"
            ],
            [
             0.2222222222222222,
             "#7201a8"
            ],
            [
             0.3333333333333333,
             "#9c179e"
            ],
            [
             0.4444444444444444,
             "#bd3786"
            ],
            [
             0.5555555555555556,
             "#d8576b"
            ],
            [
             0.6666666666666666,
             "#ed7953"
            ],
            [
             0.7777777777777778,
             "#fb9f3a"
            ],
            [
             0.8888888888888888,
             "#fdca26"
            ],
            [
             1,
             "#f0f921"
            ]
           ]
          },
          "colorway": [
           "#636efa",
           "#EF553B",
           "#00cc96",
           "#ab63fa",
           "#FFA15A",
           "#19d3f3",
           "#FF6692",
           "#B6E880",
           "#FF97FF",
           "#FECB52"
          ],
          "font": {
           "color": "#2a3f5f"
          },
          "geo": {
           "bgcolor": "white",
           "lakecolor": "white",
           "landcolor": "#E5ECF6",
           "showlakes": true,
           "showland": true,
           "subunitcolor": "white"
          },
          "hoverlabel": {
           "align": "left"
          },
          "hovermode": "closest",
          "mapbox": {
           "style": "light"
          },
          "paper_bgcolor": "white",
          "plot_bgcolor": "#E5ECF6",
          "polar": {
           "angularaxis": {
            "gridcolor": "white",
            "linecolor": "white",
            "ticks": ""
           },
           "bgcolor": "#E5ECF6",
           "radialaxis": {
            "gridcolor": "white",
            "linecolor": "white",
            "ticks": ""
           }
          },
          "scene": {
           "xaxis": {
            "backgroundcolor": "#E5ECF6",
            "gridcolor": "white",
            "gridwidth": 2,
            "linecolor": "white",
            "showbackground": true,
            "ticks": "",
            "zerolinecolor": "white"
           },
           "yaxis": {
            "backgroundcolor": "#E5ECF6",
            "gridcolor": "white",
            "gridwidth": 2,
            "linecolor": "white",
            "showbackground": true,
            "ticks": "",
            "zerolinecolor": "white"
           },
           "zaxis": {
            "backgroundcolor": "#E5ECF6",
            "gridcolor": "white",
            "gridwidth": 2,
            "linecolor": "white",
            "showbackground": true,
            "ticks": "",
            "zerolinecolor": "white"
           }
          },
          "shapedefaults": {
           "line": {
            "color": "#2a3f5f"
           }
          },
          "ternary": {
           "aaxis": {
            "gridcolor": "white",
            "linecolor": "white",
            "ticks": ""
           },
           "baxis": {
            "gridcolor": "white",
            "linecolor": "white",
            "ticks": ""
           },
           "bgcolor": "#E5ECF6",
           "caxis": {
            "gridcolor": "white",
            "linecolor": "white",
            "ticks": ""
           }
          },
          "title": {
           "x": 0.05
          },
          "xaxis": {
           "automargin": true,
           "gridcolor": "white",
           "linecolor": "white",
           "ticks": "",
           "title": {
            "standoff": 15
           },
           "zerolinecolor": "white",
           "zerolinewidth": 2
          },
          "yaxis": {
           "automargin": true,
           "gridcolor": "white",
           "linecolor": "white",
           "ticks": "",
           "title": {
            "standoff": 15
           },
           "zerolinecolor": "white",
           "zerolinewidth": 2
          }
         }
        },
        "title": {
         "text": "Choropleth Map"
        }
       }
      },
      "image/png": "[encoded data removed]",
      "text/html": [
       "<div>                            <div id=\"15d141be-7c10-4579-a1aa-c778eb3884e7\" class=\"plotly-graph-div\" style=\"height:525px; width:100%;\"></div>            <script type=\"text/javascript\">                require([\"plotly\"], function(Plotly) {                    window.PLOTLYENV=window.PLOTLYENV || {};                                    if (document.getElementById(\"15d141be-7c10-4579-a1aa-c778eb3884e7\")) {                    Plotly.newPlot(                        \"15d141be-7c10-4579-a1aa-c778eb3884e7\",                        [{\"coloraxis\":\"coloraxis\",\"geo\":\"geo\",\"hovertemplate\":\"<b>%{hovertext}</b><br><br>Country=%{location}<br>Composite=%{z}<extra></extra>\",\"hovertext\":[\"Viet Nam\",\"Malaysia\",\"Uzbekistan\",\"Taiwan, Province of China\",\"Paraguay\",\"Indonesia\",\"Kyrgyzstan\",\"Estonia\",\"Mexico\",\"Kuwait\",\"Switzerland\",\"Panama\",\"Thailand\",\"Denmark\",\"Finland\",\"Saudi Arabia\",\"Singapore\",\"Kazakhstan\",\"Kosovo\",\"Netherlands\",\"Norway\",\"Sweden\",\"Luxembourg\",\"Guatemala\",\"Chile\",\"China\",\"Costa Rica\",\"Iceland\",\"Somalia\",\"Austria\",\"Tajikistan\",\"Germany\",\"Ireland\",\"Belgium\",\"New Zealand\",\"Honduras\",\"Mauritius\",\"Uruguay\",\"Kenya\",\"Senegal\",\"Czech Republic\",\"France\",\"Colombia\",\"Hungary\",\"Philippines\",\"Australia\",\"Russian Federation\",\"Poland\",\"Dominican Republic\",\"Mongolia\",\"Namibia\",\"Venezuela, Bolivarian Republic of\",\"United Kingdom\",\"El Salvador\",\"South Africa\",\"Nicaragua\",\"Zimbabwe\",\"Botswana\",\"Slovakia\",\"Hong Kong\",\"Slovenia\",\"Tanzania, United Republic of\",\"Latvia\",\"Japan\",\"Mali\",\"Argentina\",\"Portugal\",\"Korea, Republic of\",\"Spain\",\"United States\",\"Canada\",\"Nigeria\",\"Ecuador\",\"Serbia\",\"Moldova, Republic of\",\"Swaziland\",\"Brazil\",\"Italy\",\"Georgia\",\"C\\u00f4te d'Ivoire\",\"Bosnia and Herzegovina\",\"Peru\",\"Bulgaria\",\"Bahrain\",\"Ghana\",\"United Arab Emirates\",\"Croatia\",\"Gambia\",\"Cyprus\",\"Mauritania\",\"Bolivia, Plurinational State of\",\"Azerbaijan\",\"Romania\",\"Mozambique\",\"India\",\"North Macedonia\",\"Malta\",\"Cambodia\",\"Uganda\",\"Albania\",\"Lao People's Democratic Republic\",\"Niger\",\"Zambia\",\"Madagascar\",\"Lithuania\",\"Greece\",\"Sri Lanka\",\"Burkina Faso\",\"Montenegro\",\"Armenia\",\"Malawi\",\"Gabon\",\"State of Palestine\",\"Libya\",\"Iran, Islamic Republic of\",\"Cameroon\",\"Ethiopia\",\"Myanmar\",\"Congo\",\"Ukraine\",\"Yemen\",\"Pakistan\",\"Togo\",\"Liberia\",\"Morocco\",\"Tunisia\",\"Iraq\",\"Benin\",\"Guinea\",\"Nepal\",\"Egypt\",\"Bangladesh\",\"Jordan\",\"Israel\",\"Comoros\",\"Lebanon\",\"Turkey\",\"Congo, the Democratic Republic of the\",\"Sierra Leone\",\"Chad\",\"Northern Cyprus\",\"Afghanistan\"],\"locationmode\":\"country names\",\"locations\":[\"Viet Nam\",\"Malaysia\",\"Uzbekistan\",\"Taiwan, Province of China\",\"Paraguay\",\"Indonesia\",\"Kyrgyzstan\",\"Estonia\",\"Mexico\",\"Kuwait\",\"Switzerland\",\"Panama\",\"Thailand\",\"Denmark\",\"Finland\",\"Saudi Arabia\",\"Singapore\",\"Kazakhstan\",\"Kosovo\",\"Netherlands\",\"Norway\",\"Sweden\",\"Luxembourg\",\"Guatemala\",\"Chile\",\"China\",\"Costa Rica\",\"Iceland\",\"Somalia\",\"Austria\",\"Tajikistan\",\"Germany\",\"Ireland\",\"Belgium\",\"New Zealand\",\"Honduras\",\"Mauritius\",\"Uruguay\",\"Kenya\",\"Senegal\",\"Czech Republic\",\"France\",\"Colombia\",\"Hungary\",\"Philippines\",\"Australia\",\"Russian Federation\",\"Poland\",\"Dominican Republic\",\"Mongolia\",\"Namibia\",\"Venezuela, Bolivarian Republic of\",\"United Kingdom\",\"El Salvador\",\"South Africa\",\"Nicaragua\",\"Zimbabwe\",\"Botswana\",\"Slovakia\",\"Hong Kong\",\"Slovenia\",\"Tanzania, United Republic of\",\"Latvia\",\"Japan\",\"Mali\",\"Argentina\",\"Portugal\",\"Korea, Republic of\",\"Spain\",\"United States\",\"Canada\",\"Nigeria\",\"Ecuador\",\"Serbia\",\"Moldova, Republic of\",\"Swaziland\",\"Brazil\",\"Italy\",\"Georgia\",\"C\\u00f4te d'Ivoire\",\"Bosnia and Herzegovina\",\"Peru\",\"Bulgaria\",\"Bahrain\",\"Ghana\",\"United Arab Emirates\",\"Croatia\",\"Gambia\",\"Cyprus\",\"Mauritania\",\"Bolivia, Plurinational State of\",\"Azerbaijan\",\"Romania\",\"Mozambique\",\"India\",\"North Macedonia\",\"Malta\",\"Cambodia\",\"Uganda\",\"Albania\",\"Lao People's Democratic Republic\",\"Niger\",\"Zambia\",\"Madagascar\",\"Lithuania\",\"Greece\",\"Sri Lanka\",\"Burkina Faso\",\"Montenegro\",\"Armenia\",\"Malawi\",\"Gabon\",\"State of Palestine\",\"Libya\",\"Iran, Islamic Republic of\",\"Cameroon\",\"Ethiopia\",\"Myanmar\",\"Congo\",\"Ukraine\",\"Yemen\",\"Pakistan\",\"Togo\",\"Liberia\",\"Morocco\",\"Tunisia\",\"Iraq\",\"Benin\",\"Guinea\",\"Nepal\",\"Egypt\",\"Bangladesh\",\"Jordan\",\"Israel\",\"Comoros\",\"Lebanon\",\"Turkey\",\"Congo, the Democratic Republic of the\",\"Sierra Leone\",\"Chad\",\"Northern Cyprus\",\"Afghanistan\"],\"name\":\"\",\"z\":[9.0,8.8,8.7,8.5,8.4,8.3,8.3,8.3,8.2,8.1,8.1,8.1,8.1,8.0,7.9,7.9,7.8,7.8,7.8,7.7,7.7,7.7,7.7,7.6,7.6,7.6,7.6,7.6,7.6,7.5,7.5,7.5,7.5,7.4,7.4,7.4,7.4,7.4,7.4,7.3,7.3,7.3,7.3,7.2,7.2,7.2,7.2,7.2,7.2,7.2,7.2,7.2,7.2,7.1,7.1,7.0,6.9,6.9,6.8,6.8,6.8,6.8,6.7,6.7,6.7,6.6,6.6,6.5,6.5,6.5,6.5,6.5,6.5,6.5,6.5,6.5,6.5,6.5,6.5,6.4,6.4,6.4,6.4,6.4,6.4,6.4,6.3,6.3,6.2,6.2,6.2,6.2,6.1,6.1,6.0,5.9,5.9,5.9,5.9,5.7,5.7,5.7,5.7,5.6,5.6,5.5,5.4,5.4,5.4,5.2,5.2,5.2,5.1,5.1,5.1,5.1,5.0,4.9,4.8,4.8,4.7,4.6,4.6,4.6,4.5,4.5,4.4,4.4,4.4,4.4,4.3,4.2,4.0,4.0,4.0,3.8,3.8,3.7,3.4,3.3,3.0,2.3],\"type\":\"choropleth\"}],                        {\"template\":{\"data\":{\"histogram2dcontour\":[{\"type\":\"histogram2dcontour\",\"colorbar\":{\"outlinewidth\":0,\"ticks\":\"\"},\"colorscale\":[[0.0,\"#0d0887\"],[0.1111111111111111,\"#46039f\"],[0.2222222222222222,\"#7201a8\"],[0.3333333333333333,\"#9c179e\"],[0.4444444444444444,\"#bd3786\"],[0.5555555555555556,\"#d8576b\"],[0.6666666666666666,\"#ed7953\"],[0.7777777777777778,\"#fb9f3a\"],[0.8888888888888888,\"#fdca26\"],[1.0,\"#f0f921\"]]}],\"choropleth\":[{\"type\":\"choropleth\",\"colorbar\":{\"outlinewidth\":0,\"ticks\":\"\"}}],\"histogram2d\":[{\"type\":\"histogram2d\",\"colorbar\":{\"outlinewidth\":0,\"ticks\":\"\"},\"colorscale\":[[0.0,\"#0d0887\"],[0.1111111111111111,\"#46039f\"],[0.2222222222222222,\"#7201a8\"],[0.3333333333333333,\"#9c179e\"],[0.4444444444444444,\"#bd3786\"],[0.5555555555555556,\"#d8576b\"],[0.6666666666666666,\"#ed7953\"],[0.7777777777777778,\"#fb9f3a\"],[0.8888888888888888,\"#fdca26\"],[1.0,\"#f0f921\"]]}],\"heatmap\":[{\"type\":\"heatmap\",\"colorbar\":{\"outlinewidth\":0,\"ticks\":\"\"},\"colorscale\":[[0.0,\"#0d0887\"],[0.1111111111111111,\"#46039f\"],[0.2222222222222222,\"#7201a8\"],[0.3333333333333333,\"#9c179e\"],[0.4444444444444444,\"#bd3786\"],[0.5555555555555556,\"#d8576b\"],[0.6666666666666666,\"#ed7953\"],[0.7777777777777778,\"#fb9f3a\"],[0.8888888888888888,\"#fdca26\"],[1.0,\"#f0f921\"]]}],\"heatmapgl\":[{\"type\":\"heatmapgl\",\"colorbar\":{\"outlinewidth\":0,\"ticks\":\"\"},\"colorscale\":[[0.0,\"#0d0887\"],[0.1111111111111111,\"#46039f\"],[0.2222222222222222,\"#7201a8\"],[0.3333333333333333,\"#9c179e\"],[0.4444444444444444,\"#bd3786\"],[0.5555555555555556,\"#d8576b\"],[0.6666666666666666,\"#ed7953\"],[0.7777777777777778,\"#fb9f3a\"],[0.8888888888888888,\"#fdca26\"],[1.0,\"#f0f921\"]]}],\"contourcarpet\":[{\"type\":\"contourcarpet\",\"colorbar\":{\"outlinewidth\":0,\"ticks\":\"\"}}],\"contour\":[{\"type\":\"contour\",\"colorbar\":{\"outlinewidth\":0,\"ticks\":\"\"},\"colorscale\":[[0.0,\"#0d0887\"],[0.1111111111111111,\"#46039f\"],[0.2222222222222222,\"#7201a8\"],[0.3333333333333333,\"#9c179e\"],[0.4444444444444444,\"#bd3786\"],[0.5555555555555556,\"#d8576b\"],[0.6666666666666666,\"#ed7953\"],[0.7777777777777778,\"#fb9f3a\"],[0.8888888888888888,\"#fdca26\"],[1.0,\"#f0f921\"]]}],\"surface\":[{\"type\":\"surface\",\"colorbar\":{\"outlinewidth\":0,\"ticks\":\"\"},\"colorscale\":[[0.0,\"#0d0887\"],[0.1111111111111111,\"#46039f\"],[0.2222222222222222,\"#7201a8\"],[0.3333333333333333,\"#9c179e\"],[0.4444444444444444,\"#bd3786\"],[0.5555555555555556,\"#d8576b\"],[0.6666666666666666,\"#ed7953\"],[0.7777777777777778,\"#fb9f3a\"],[0.8888888888888888,\"#fdca26\"],[1.0,\"#f0f921\"]]}],\"mesh3d\":[{\"type\":\"mesh3d\",\"colorbar\":{\"outlinewidth\":0,\"ticks\":\"\"}}],\"scatter\":[{\"fillpattern\":{\"fillmode\":\"overlay\",\"size\":10,\"solidity\":0.2},\"type\":\"scatter\"}],\"parcoords\":[{\"type\":\"parcoords\",\"line\":{\"colorbar\":{\"outlinewidth\":0,\"ticks\":\"\"}}}],\"scatterpolargl\":[{\"type\":\"scatterpolargl\",\"marker\":{\"colorbar\":{\"outlinewidth\":0,\"ticks\":\"\"}}}],\"bar\":[{\"error_x\":{\"color\":\"#2a3f5f\"},\"error_y\":{\"color\":\"#2a3f5f\"},\"marker\":{\"line\":{\"color\":\"#E5ECF6\",\"width\":0.5},\"pattern\":{\"fillmode\":\"overlay\",\"size\":10,\"solidity\":0.2}},\"type\":\"bar\"}],\"scattergeo\":[{\"type\":\"scattergeo\",\"marker\":{\"colorbar\":{\"outlinewidth\":0,\"ticks\":\"\"}}}],\"scatterpolar\":[{\"type\":\"scatterpolar\",\"marker\":{\"colorbar\":{\"outlinewidth\":0,\"ticks\":\"\"}}}],\"histogram\":[{\"marker\":{\"pattern\":{\"fillmode\":\"overlay\",\"size\":10,\"solidity\":0.2}},\"type\":\"histogram\"}],\"scattergl\":[{\"type\":\"scattergl\",\"marker\":{\"colorbar\":{\"outlinewidth\":0,\"ticks\":\"\"}}}],\"scatter3d\":[{\"type\":\"scatter3d\",\"line\":{\"colorbar\":{\"outlinewidth\":0,\"ticks\":\"\"}},\"marker\":{\"colorbar\":{\"outlinewidth\":0,\"ticks\":\"\"}}}],\"scattermapbox\":[{\"type\":\"scattermapbox\",\"marker\":{\"colorbar\":{\"outlinewidth\":0,\"ticks\":\"\"}}}],\"scatterternary\":[{\"type\":\"scatterternary\",\"marker\":{\"colorbar\":{\"outlinewidth\":0,\"ticks\":\"\"}}}],\"scattercarpet\":[{\"type\":\"scattercarpet\",\"marker\":{\"colorbar\":{\"outlinewidth\":0,\"ticks\":\"\"}}}],\"carpet\":[{\"aaxis\":{\"endlinecolor\":\"#2a3f5f\",\"gridcolor\":\"white\",\"linecolor\":\"white\",\"minorgridcolor\":\"white\",\"startlinecolor\":\"#2a3f5f\"},\"baxis\":{\"endlinecolor\":\"#2a3f5f\",\"gridcolor\":\"white\",\"linecolor\":\"white\",\"minorgridcolor\":\"white\",\"startlinecolor\":\"#2a3f5f\"},\"type\":\"carpet\"}],\"table\":[{\"cells\":{\"fill\":{\"color\":\"#EBF0F8\"},\"line\":{\"color\":\"white\"}},\"header\":{\"fill\":{\"color\":\"#C8D4E3\"},\"line\":{\"color\":\"white\"}},\"type\":\"table\"}],\"barpolar\":[{\"marker\":{\"line\":{\"color\":\"#E5ECF6\",\"width\":0.5},\"pattern\":{\"fillmode\":\"overlay\",\"size\":10,\"solidity\":0.2}},\"type\":\"barpolar\"}],\"pie\":[{\"automargin\":true,\"type\":\"pie\"}]},\"layout\":{\"autotypenumbers\":\"strict\",\"colorway\":[\"#636efa\",\"#EF553B\",\"#00cc96\",\"#ab63fa\",\"#FFA15A\",\"#19d3f3\",\"#FF6692\",\"#B6E880\",\"#FF97FF\",\"#FECB52\"],\"font\":{\"color\":\"#2a3f5f\"},\"hovermode\":\"closest\",\"hoverlabel\":{\"align\":\"left\"},\"paper_bgcolor\":\"white\",\"plot_bgcolor\":\"#E5ECF6\",\"polar\":{\"bgcolor\":\"#E5ECF6\",\"angularaxis\":{\"gridcolor\":\"white\",\"linecolor\":\"white\",\"ticks\":\"\"},\"radialaxis\":{\"gridcolor\":\"white\",\"linecolor\":\"white\",\"ticks\":\"\"}},\"ternary\":{\"bgcolor\":\"#E5ECF6\",\"aaxis\":{\"gridcolor\":\"white\",\"linecolor\":\"white\",\"ticks\":\"\"},\"baxis\":{\"gridcolor\":\"white\",\"linecolor\":\"white\",\"ticks\":\"\"},\"caxis\":{\"gridcolor\":\"white\",\"linecolor\":\"white\",\"ticks\":\"\"}},\"coloraxis\":{\"colorbar\":{\"outlinewidth\":0,\"ticks\":\"\"}},\"colorscale\":{\"sequential\":[[0.0,\"#0d0887\"],[0.1111111111111111,\"#46039f\"],[0.2222222222222222,\"#7201a8\"],[0.3333333333333333,\"#9c179e\"],[0.4444444444444444,\"#bd3786\"],[0.5555555555555556,\"#d8576b\"],[0.6666666666666666,\"#ed7953\"],[0.7777777777777778,\"#fb9f3a\"],[0.8888888888888888,\"#fdca26\"],[1.0,\"#f0f921\"]],\"sequentialminus\":[[0.0,\"#0d0887\"],[0.1111111111111111,\"#46039f\"],[0.2222222222222222,\"#7201a8\"],[0.3333333333333333,\"#9c179e\"],[0.4444444444444444,\"#bd3786\"],[0.5555555555555556,\"#d8576b\"],[0.6666666666666666,\"#ed7953\"],[0.7777777777777778,\"#fb9f3a\"],[0.8888888888888888,\"#fdca26\"],[1.0,\"#f0f921\"]],\"diverging\":[[0,\"#8e0152\"],[0.1,\"#c51b7d\"],[0.2,\"#de77ae\"],[0.3,\"#f1b6da\"],[0.4,\"#fde0ef\"],[0.5,\"#f7f7f7\"],[0.6,\"#e6f5d0\"],[0.7,\"#b8e186\"],[0.8,\"#7fbc41\"],[0.9,\"#4d9221\"],[1,\"#276419\"]]},\"xaxis\":{\"gridcolor\":\"white\",\"linecolor\":\"white\",\"ticks\":\"\",\"title\":{\"standoff\":15},\"zerolinecolor\":\"white\",\"automargin\":true,\"zerolinewidth\":2},\"yaxis\":{\"gridcolor\":\"white\",\"linecolor\":\"white\",\"ticks\":\"\",\"title\":{\"standoff\":15},\"zerolinecolor\":\"white\",\"automargin\":true,\"zerolinewidth\":2},\"scene\":{\"xaxis\":{\"backgroundcolor\":\"#E5ECF6\",\"gridcolor\":\"white\",\"linecolor\":\"white\",\"showbackground\":true,\"ticks\":\"\",\"zerolinecolor\":\"white\",\"gridwidth\":2},\"yaxis\":{\"backgroundcolor\":\"#E5ECF6\",\"gridcolor\":\"white\",\"linecolor\":\"white\",\"showbackground\":true,\"ticks\":\"\",\"zerolinecolor\":\"white\",\"gridwidth\":2},\"zaxis\":{\"backgroundcolor\":\"#E5ECF6\",\"gridcolor\":\"white\",\"linecolor\":\"white\",\"showbackground\":true,\"ticks\":\"\",\"zerolinecolor\":\"white\",\"gridwidth\":2}},\"shapedefaults\":{\"line\":{\"color\":\"#2a3f5f\"}},\"annotationdefaults\":{\"arrowcolor\":\"#2a3f5f\",\"arrowhead\":0,\"arrowwidth\":1},\"geo\":{\"bgcolor\":\"white\",\"landcolor\":\"#E5ECF6\",\"subunitcolor\":\"white\",\"showland\":true,\"showlakes\":true,\"lakecolor\":\"white\"},\"title\":{\"x\":0.05},\"mapbox\":{\"style\":\"light\"}}},\"geo\":{\"domain\":{\"x\":[0.0,1.0],\"y\":[0.0,1.0]},\"projection\":{\"type\":\"natural earth\"},\"center\":{},\"scope\":\"world\"},\"coloraxis\":{\"colorbar\":{\"title\":{\"text\":\"Composite\"}},\"colorscale\":[[0,\"yellow\"],[0.8,\"orange\"],[1,\"red\"]]},\"legend\":{\"tracegroupgap\":0},\"margin\":{\"t\":0,\"l\":0,\"r\":0,\"b\":0},\"title\":{\"text\":\"Choropleth Map\"}},                        {\"responsive\": true}                    ).then(function(){\n",
       "                            \n",
       "var gd = document.getElementById('15d141be-7c10-4579-a1aa-c778eb3884e7');\n",
       "var x = new MutationObserver(function (mutations, observer) {{\n",
       "        var display = window.getComputedStyle(gd).display;\n",
       "        if (!display || display === 'none') {{\n",
       "            console.log([gd, 'removed!']);\n",
       "            Plotly.purge(gd);\n",
       "            observer.disconnect();\n",
       "        }}\n",
       "}});\n",
       "\n",
       "// Listen for the removal of the full notebook cells\n",
       "var notebookContainer = gd.closest('#notebook-container');\n",
       "if (notebookContainer) {{\n",
       "    x.observe(notebookContainer, {childList: true});\n",
       "}}\n",
       "\n",
       "// Listen for the clearing of the current output cell\n",
       "var outputEl = gd.closest('.output');\n",
       "if (outputEl) {{\n",
       "    x.observe(outputEl, {childList: true});\n",
       "}}\n",
       "\n",
       "                        })                };                });            </script>        </div>"
      ]
     },
     "metadata": {},
     "output_type": "display_data"
    }
   ],
   "source": [
    "\n",
    "import plotly.express as px\n",
    "import pandas as pd\n",
    "\n",
    "custom_color_scale = [\n",
    "                        (0, \"yellow\"),    # Cold color for low values\n",
    "                        (0.8, \"orange\"), # Intermediate color\n",
    "                        (1, \"red\")      # Hot color for high values\n",
    "                     ]\n",
    "\n",
    "# Create the choropleth map\n",
    "fig = px.choropleth(\n",
    "    df_result,\n",
    "    locations=\"Country\",\n",
    "    color=\"Composite\",\n",
    "    hover_name=\"Country\",\n",
    "    color_continuous_scale=custom_color_scale,\n",
    "    locationmode=\"country names\",\n",
    "    projection=\"natural earth\"\n",
    ")\n",
    "\n",
    "# Update the layout\n",
    "fig.update_layout(\n",
    "    title=\"Choropleth Map\",\n",
    "    geo_scope=\"world\",\n",
    "    margin=dict(l=0, r=0, t=0, b=0)\n",
    ")\n",
    "\n",
    "# Show the map\n",
    "fig.show()"
   ]
  },
  {
   "cell_type": "code",
   "execution_count": 29,
   "metadata": {},
   "outputs": [],
   "source": []
  },
  {
   "cell_type": "code",
   "execution_count": null,
   "metadata": {},
   "outputs": [],
   "source": []
  }
 ],
 "metadata": {
  "kernelspec": {
   "display_name": "Python [conda env:base] *",
   "language": "python",
   "name": "conda-base-py"
  },
  "language_info": {
   "codemirror_mode": {
    "name": "ipython",
    "version": 3
   },
   "file_extension": ".py",
   "mimetype": "text/x-python",
   "name": "python",
   "nbconvert_exporter": "python",
   "pygments_lexer": "ipython3",
   "version": "3.12.7"
  }
 },
 "nbformat": 4,
 "nbformat_minor": 4
}
